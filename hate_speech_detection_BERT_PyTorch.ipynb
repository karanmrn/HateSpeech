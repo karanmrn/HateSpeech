{
  "cells": [
    {
      "cell_type": "markdown",
      "id": "5a317524-e230-445d-90da-c2cf17699a12",
      "metadata": {
        "id": "5a317524-e230-445d-90da-c2cf17699a12",
        "tags": []
      },
      "source": [
        "# Hate speech detection task\n",
        "\n",
        "Hate speech detection is the automated task of determining whether a piece of text contains hateful content. In this project, I built a classifier using PyTorch and a pre-trained BERT model.\n",
        "\n",
        "**Data source:** Hate Towards the Political Opponent: A Twitter Corpus Study of the 2020 US Elections on the Basis of Offensive Speech and Stance Detection https://www.ims.uni-stuttgart.de/forschung/ressourcen/korpora/stance-hof/"
      ]
    },
    {
      "cell_type": "markdown",
      "id": "9c5f3887-5ed7-4c42-bc33-57dcb51550fc",
      "metadata": {
        "id": "9c5f3887-5ed7-4c42-bc33-57dcb51550fc"
      },
      "source": [
        "## GPU set-up"
      ]
    },
    {
      "cell_type": "code",
      "execution_count": 1,
      "id": "dd2107fc-38dd-46a1-9043-65350cc82d41",
      "metadata": {
        "colab": {
          "base_uri": "https://localhost:8080/"
        },
        "id": "dd2107fc-38dd-46a1-9043-65350cc82d41",
        "outputId": "a13eed6a-494a-4115-c676-3ae538630bba"
      },
      "outputs": [
        {
          "output_type": "stream",
          "name": "stdout",
          "text": [
            "There are 1 GPU(s) available.\n",
            "We will use the GPU: Tesla T4\n"
          ]
        }
      ],
      "source": [
        "import torch\n",
        "\n",
        "# If there's a GPU available...\n",
        "if torch.cuda.is_available():\n",
        "\n",
        "    # Tell PyTorch to use the GPU.\n",
        "    device = torch.device(\"cuda\")\n",
        "\n",
        "    print('There are %d GPU(s) available.' % torch.cuda.device_count())\n",
        "\n",
        "    print('We will use the GPU:', torch.cuda.get_device_name(0))\n",
        "\n",
        "# If not...\n",
        "else:\n",
        "    print('No GPU available, using the CPU instead.')\n",
        "    device = torch.device(\"cpu\")"
      ]
    },
    {
      "cell_type": "markdown",
      "id": "c7f1b9be-f2e1-407c-89b5-0ab50789090d",
      "metadata": {
        "id": "c7f1b9be-f2e1-407c-89b5-0ab50789090d"
      },
      "source": [
        "## Load libraries"
      ]
    },
    {
      "cell_type": "code",
      "execution_count": 4,
      "id": "pbeyn5mG1K9J",
      "metadata": {
        "id": "pbeyn5mG1K9J",
        "outputId": "0033d8a6-d6cb-495c-c759-b753e2f9d3ac",
        "colab": {
          "base_uri": "https://localhost:8080/"
        }
      },
      "outputs": [
        {
          "output_type": "stream",
          "name": "stdout",
          "text": [
            "Collecting transformers\n",
            "  Downloading transformers-4.32.0-py3-none-any.whl (7.5 MB)\n",
            "\u001b[2K     \u001b[90m━━━━━━━━━━━━━━━━━━━━━━━━━━━━━━━━━━━━━━━━\u001b[0m \u001b[32m7.5/7.5 MB\u001b[0m \u001b[31m18.7 MB/s\u001b[0m eta \u001b[36m0:00:00\u001b[0m\n",
            "\u001b[?25hRequirement already satisfied: filelock in /usr/local/lib/python3.10/dist-packages (from transformers) (3.12.2)\n",
            "Collecting huggingface-hub<1.0,>=0.15.1 (from transformers)\n",
            "  Downloading huggingface_hub-0.16.4-py3-none-any.whl (268 kB)\n",
            "\u001b[2K     \u001b[90m━━━━━━━━━━━━━━━━━━━━━━━━━━━━━━━━━━━━━━\u001b[0m \u001b[32m268.8/268.8 kB\u001b[0m \u001b[31m29.5 MB/s\u001b[0m eta \u001b[36m0:00:00\u001b[0m\n",
            "\u001b[?25hRequirement already satisfied: numpy>=1.17 in /usr/local/lib/python3.10/dist-packages (from transformers) (1.23.5)\n",
            "Requirement already satisfied: packaging>=20.0 in /usr/local/lib/python3.10/dist-packages (from transformers) (23.1)\n",
            "Requirement already satisfied: pyyaml>=5.1 in /usr/local/lib/python3.10/dist-packages (from transformers) (6.0.1)\n",
            "Requirement already satisfied: regex!=2019.12.17 in /usr/local/lib/python3.10/dist-packages (from transformers) (2023.6.3)\n",
            "Requirement already satisfied: requests in /usr/local/lib/python3.10/dist-packages (from transformers) (2.31.0)\n",
            "Collecting tokenizers!=0.11.3,<0.14,>=0.11.1 (from transformers)\n",
            "  Downloading tokenizers-0.13.3-cp310-cp310-manylinux_2_17_x86_64.manylinux2014_x86_64.whl (7.8 MB)\n",
            "\u001b[2K     \u001b[90m━━━━━━━━━━━━━━━━━━━━━━━━━━━━━━━━━━━━━━━━\u001b[0m \u001b[32m7.8/7.8 MB\u001b[0m \u001b[31m62.9 MB/s\u001b[0m eta \u001b[36m0:00:00\u001b[0m\n",
            "\u001b[?25hCollecting safetensors>=0.3.1 (from transformers)\n",
            "  Downloading safetensors-0.3.3-cp310-cp310-manylinux_2_17_x86_64.manylinux2014_x86_64.whl (1.3 MB)\n",
            "\u001b[2K     \u001b[90m━━━━━━━━━━━━━━━━━━━━━━━━━━━━━━━━━━━━━━━━\u001b[0m \u001b[32m1.3/1.3 MB\u001b[0m \u001b[31m65.7 MB/s\u001b[0m eta \u001b[36m0:00:00\u001b[0m\n",
            "\u001b[?25hRequirement already satisfied: tqdm>=4.27 in /usr/local/lib/python3.10/dist-packages (from transformers) (4.66.1)\n",
            "Requirement already satisfied: fsspec in /usr/local/lib/python3.10/dist-packages (from huggingface-hub<1.0,>=0.15.1->transformers) (2023.6.0)\n",
            "Requirement already satisfied: typing-extensions>=3.7.4.3 in /usr/local/lib/python3.10/dist-packages (from huggingface-hub<1.0,>=0.15.1->transformers) (4.7.1)\n",
            "Requirement already satisfied: charset-normalizer<4,>=2 in /usr/local/lib/python3.10/dist-packages (from requests->transformers) (3.2.0)\n",
            "Requirement already satisfied: idna<4,>=2.5 in /usr/local/lib/python3.10/dist-packages (from requests->transformers) (3.4)\n",
            "Requirement already satisfied: urllib3<3,>=1.21.1 in /usr/local/lib/python3.10/dist-packages (from requests->transformers) (2.0.4)\n",
            "Requirement already satisfied: certifi>=2017.4.17 in /usr/local/lib/python3.10/dist-packages (from requests->transformers) (2023.7.22)\n",
            "Installing collected packages: tokenizers, safetensors, huggingface-hub, transformers\n",
            "Successfully installed huggingface-hub-0.16.4 safetensors-0.3.3 tokenizers-0.13.3 transformers-4.32.0\n"
          ]
        }
      ],
      "source": [
        "!pip install transformers"
      ]
    },
    {
      "cell_type": "code",
      "execution_count": 5,
      "id": "272f722d-1680-4e16-add8-5085bf7a50f1",
      "metadata": {
        "id": "272f722d-1680-4e16-add8-5085bf7a50f1"
      },
      "outputs": [],
      "source": [
        "import os\n",
        "from pathlib import Path\n",
        "\n",
        "import numpy as np\n",
        "import pandas as pd\n",
        "import matplotlib.pyplot as plt\n",
        "%matplotlib inline\n",
        "import re\n",
        "from string import punctuation\n",
        "from collections import Counter\n",
        "import random\n",
        "import operator\n",
        "from tqdm import tqdm\n",
        "import time\n",
        "\n",
        "from sklearn.model_selection import train_test_split\n",
        "from sklearn.metrics import accuracy_score, classification_report, confusion_matrix\n",
        "\n",
        "import torch\n",
        "from torch import nn, optim\n",
        "from torch.nn import functional as F\n",
        "from torch.utils.data import Dataset, DataLoader, RandomSampler, SequentialSampler\n",
        "\n",
        "from transformers import BertModel, BertTokenizer"
      ]
    },
    {
      "cell_type": "markdown",
      "id": "4ba6f892-fd29-4a1f-9a17-2efb6d2e2adf",
      "metadata": {
        "id": "4ba6f892-fd29-4a1f-9a17-2efb6d2e2adf"
      },
      "source": [
        "## Load data\n",
        "\n",
        "Note that I will only use two of the columns: 'text' and 'HOF' (i.e. the label). The other columns (sentiment towards Trump, Biden and West) are superfluous to the current (simple) task."
      ]
    },
    {
      "cell_type": "code",
      "execution_count": 6,
      "id": "315f77d2-4d1e-402d-8bd2-8047fa9dbebd",
      "metadata": {
        "id": "315f77d2-4d1e-402d-8bd2-8047fa9dbebd"
      },
      "outputs": [],
      "source": [
        "def load_data(path, sample_size=5, cols=['text', 'HOF'], label=None):\n",
        "    \"\"\"Helper function that loads data from a given path into a pandas\n",
        "       DataFrame, using only the specified cols. Also prints basic info\n",
        "       about the dataset size and displays a sample of the rows.\n",
        "    \"\"\"\n",
        "\n",
        "    df = pd.read_csv(path, sep='\\t', usecols=cols)\n",
        "\n",
        "    print(f\"\\nThere are {df.shape[0]} tweets in the {label} dataset.\")\n",
        "    print(\"\\nHere's a sample:\\n\")\n",
        "    display(df.sample(sample_size))\n",
        "\n",
        "    return df"
      ]
    },
    {
      "cell_type": "code",
      "execution_count": 8,
      "id": "FMvZ-Qzb1gBq",
      "metadata": {
        "colab": {
          "base_uri": "https://localhost:8080/",
          "height": 574
        },
        "id": "FMvZ-Qzb1gBq",
        "outputId": "caecc436-a22f-4c86-8fc8-349a3abf3b92"
      },
      "outputs": [
        {
          "output_type": "stream",
          "name": "stdout",
          "text": [
            "\n",
            "There are 2400 tweets in the train dataset.\n",
            "\n",
            "Here's a sample:\n",
            "\n"
          ]
        },
        {
          "output_type": "display_data",
          "data": {
            "text/plain": [
              "                                                   text          HOF\n",
              "456   @realDonaldTrump We are waiting for you Mr pre...  Non-Hateful\n",
              "1185  Kushner Says Trump Policies Work For Black Peo...  Non-Hateful\n",
              "1867  @KamalaHarris @JoeBiden Joe seriously could po...      Hateful\n",
              "622   Newly surfaced video of Joe Biden speaking to ...  Non-Hateful\n",
              "613   Oof... I LOVE our president. Nobody has EVER h...  Non-Hateful"
            ],
            "text/html": [
              "\n",
              "  <div id=\"df-254de4f2-5ab4-4678-81f1-76b1942a734a\" class=\"colab-df-container\">\n",
              "    <div>\n",
              "<style scoped>\n",
              "    .dataframe tbody tr th:only-of-type {\n",
              "        vertical-align: middle;\n",
              "    }\n",
              "\n",
              "    .dataframe tbody tr th {\n",
              "        vertical-align: top;\n",
              "    }\n",
              "\n",
              "    .dataframe thead th {\n",
              "        text-align: right;\n",
              "    }\n",
              "</style>\n",
              "<table border=\"1\" class=\"dataframe\">\n",
              "  <thead>\n",
              "    <tr style=\"text-align: right;\">\n",
              "      <th></th>\n",
              "      <th>text</th>\n",
              "      <th>HOF</th>\n",
              "    </tr>\n",
              "  </thead>\n",
              "  <tbody>\n",
              "    <tr>\n",
              "      <th>456</th>\n",
              "      <td>@realDonaldTrump We are waiting for you Mr pre...</td>\n",
              "      <td>Non-Hateful</td>\n",
              "    </tr>\n",
              "    <tr>\n",
              "      <th>1185</th>\n",
              "      <td>Kushner Says Trump Policies Work For Black Peo...</td>\n",
              "      <td>Non-Hateful</td>\n",
              "    </tr>\n",
              "    <tr>\n",
              "      <th>1867</th>\n",
              "      <td>@KamalaHarris @JoeBiden Joe seriously could po...</td>\n",
              "      <td>Hateful</td>\n",
              "    </tr>\n",
              "    <tr>\n",
              "      <th>622</th>\n",
              "      <td>Newly surfaced video of Joe Biden speaking to ...</td>\n",
              "      <td>Non-Hateful</td>\n",
              "    </tr>\n",
              "    <tr>\n",
              "      <th>613</th>\n",
              "      <td>Oof... I LOVE our president. Nobody has EVER h...</td>\n",
              "      <td>Non-Hateful</td>\n",
              "    </tr>\n",
              "  </tbody>\n",
              "</table>\n",
              "</div>\n",
              "    <div class=\"colab-df-buttons\">\n",
              "\n",
              "  <div class=\"colab-df-container\">\n",
              "    <button class=\"colab-df-convert\" onclick=\"convertToInteractive('df-254de4f2-5ab4-4678-81f1-76b1942a734a')\"\n",
              "            title=\"Convert this dataframe to an interactive table.\"\n",
              "            style=\"display:none;\">\n",
              "\n",
              "  <svg xmlns=\"http://www.w3.org/2000/svg\" height=\"24px\" viewBox=\"0 -960 960 960\">\n",
              "    <path d=\"M120-120v-720h720v720H120Zm60-500h600v-160H180v160Zm220 220h160v-160H400v160Zm0 220h160v-160H400v160ZM180-400h160v-160H180v160Zm440 0h160v-160H620v160ZM180-180h160v-160H180v160Zm440 0h160v-160H620v160Z\"/>\n",
              "  </svg>\n",
              "    </button>\n",
              "\n",
              "  <style>\n",
              "    .colab-df-container {\n",
              "      display:flex;\n",
              "      gap: 12px;\n",
              "    }\n",
              "\n",
              "    .colab-df-convert {\n",
              "      background-color: #E8F0FE;\n",
              "      border: none;\n",
              "      border-radius: 50%;\n",
              "      cursor: pointer;\n",
              "      display: none;\n",
              "      fill: #1967D2;\n",
              "      height: 32px;\n",
              "      padding: 0 0 0 0;\n",
              "      width: 32px;\n",
              "    }\n",
              "\n",
              "    .colab-df-convert:hover {\n",
              "      background-color: #E2EBFA;\n",
              "      box-shadow: 0px 1px 2px rgba(60, 64, 67, 0.3), 0px 1px 3px 1px rgba(60, 64, 67, 0.15);\n",
              "      fill: #174EA6;\n",
              "    }\n",
              "\n",
              "    .colab-df-buttons div {\n",
              "      margin-bottom: 4px;\n",
              "    }\n",
              "\n",
              "    [theme=dark] .colab-df-convert {\n",
              "      background-color: #3B4455;\n",
              "      fill: #D2E3FC;\n",
              "    }\n",
              "\n",
              "    [theme=dark] .colab-df-convert:hover {\n",
              "      background-color: #434B5C;\n",
              "      box-shadow: 0px 1px 3px 1px rgba(0, 0, 0, 0.15);\n",
              "      filter: drop-shadow(0px 1px 2px rgba(0, 0, 0, 0.3));\n",
              "      fill: #FFFFFF;\n",
              "    }\n",
              "  </style>\n",
              "\n",
              "    <script>\n",
              "      const buttonEl =\n",
              "        document.querySelector('#df-254de4f2-5ab4-4678-81f1-76b1942a734a button.colab-df-convert');\n",
              "      buttonEl.style.display =\n",
              "        google.colab.kernel.accessAllowed ? 'block' : 'none';\n",
              "\n",
              "      async function convertToInteractive(key) {\n",
              "        const element = document.querySelector('#df-254de4f2-5ab4-4678-81f1-76b1942a734a');\n",
              "        const dataTable =\n",
              "          await google.colab.kernel.invokeFunction('convertToInteractive',\n",
              "                                                    [key], {});\n",
              "        if (!dataTable) return;\n",
              "\n",
              "        const docLinkHtml = 'Like what you see? Visit the ' +\n",
              "          '<a target=\"_blank\" href=https://colab.research.google.com/notebooks/data_table.ipynb>data table notebook</a>'\n",
              "          + ' to learn more about interactive tables.';\n",
              "        element.innerHTML = '';\n",
              "        dataTable['output_type'] = 'display_data';\n",
              "        await google.colab.output.renderOutput(dataTable, element);\n",
              "        const docLink = document.createElement('div');\n",
              "        docLink.innerHTML = docLinkHtml;\n",
              "        element.appendChild(docLink);\n",
              "      }\n",
              "    </script>\n",
              "  </div>\n",
              "\n",
              "\n",
              "<div id=\"df-0951dce3-0471-4ceb-a69b-99471d9d25e0\">\n",
              "  <button class=\"colab-df-quickchart\" onclick=\"quickchart('df-0951dce3-0471-4ceb-a69b-99471d9d25e0')\"\n",
              "            title=\"Suggest charts.\"\n",
              "            style=\"display:none;\">\n",
              "\n",
              "<svg xmlns=\"http://www.w3.org/2000/svg\" height=\"24px\"viewBox=\"0 0 24 24\"\n",
              "     width=\"24px\">\n",
              "    <g>\n",
              "        <path d=\"M19 3H5c-1.1 0-2 .9-2 2v14c0 1.1.9 2 2 2h14c1.1 0 2-.9 2-2V5c0-1.1-.9-2-2-2zM9 17H7v-7h2v7zm4 0h-2V7h2v10zm4 0h-2v-4h2v4z\"/>\n",
              "    </g>\n",
              "</svg>\n",
              "  </button>\n",
              "\n",
              "<style>\n",
              "  .colab-df-quickchart {\n",
              "    background-color: #E8F0FE;\n",
              "    border: none;\n",
              "    border-radius: 50%;\n",
              "    cursor: pointer;\n",
              "    display: none;\n",
              "    fill: #1967D2;\n",
              "    height: 32px;\n",
              "    padding: 0 0 0 0;\n",
              "    width: 32px;\n",
              "  }\n",
              "\n",
              "  .colab-df-quickchart:hover {\n",
              "    background-color: #E2EBFA;\n",
              "    box-shadow: 0px 1px 2px rgba(60, 64, 67, 0.3), 0px 1px 3px 1px rgba(60, 64, 67, 0.15);\n",
              "    fill: #174EA6;\n",
              "  }\n",
              "\n",
              "  [theme=dark] .colab-df-quickchart {\n",
              "    background-color: #3B4455;\n",
              "    fill: #D2E3FC;\n",
              "  }\n",
              "\n",
              "  [theme=dark] .colab-df-quickchart:hover {\n",
              "    background-color: #434B5C;\n",
              "    box-shadow: 0px 1px 3px 1px rgba(0, 0, 0, 0.15);\n",
              "    filter: drop-shadow(0px 1px 2px rgba(0, 0, 0, 0.3));\n",
              "    fill: #FFFFFF;\n",
              "  }\n",
              "</style>\n",
              "\n",
              "  <script>\n",
              "    async function quickchart(key) {\n",
              "      const charts = await google.colab.kernel.invokeFunction(\n",
              "          'suggestCharts', [key], {});\n",
              "    }\n",
              "    (() => {\n",
              "      let quickchartButtonEl =\n",
              "        document.querySelector('#df-0951dce3-0471-4ceb-a69b-99471d9d25e0 button');\n",
              "      quickchartButtonEl.style.display =\n",
              "        google.colab.kernel.accessAllowed ? 'block' : 'none';\n",
              "    })();\n",
              "  </script>\n",
              "</div>\n",
              "    </div>\n",
              "  </div>\n"
            ]
          },
          "metadata": {}
        },
        {
          "output_type": "stream",
          "name": "stdout",
          "text": [
            "\n",
            "There are 600 tweets in the test dataset.\n",
            "\n",
            "Here's a sample:\n",
            "\n"
          ]
        },
        {
          "output_type": "display_data",
          "data": {
            "text/plain": [
              "                                                  text          HOF\n",
              "95   #OperationFlagDrop[NEWLINE]#Trump2020 [NEWLINE...  Non-Hateful\n",
              "43   Twitter is a service, not a right. KayLie spre...  Non-Hateful\n",
              "250  See how the reporter covers for him? What the ...  Non-Hateful\n",
              "249  Great to welcome new followers to my page incl...  Non-Hateful\n",
              "58   If you are okay with being dependent on a syst...  Non-Hateful"
            ],
            "text/html": [
              "\n",
              "  <div id=\"df-4381042b-33c2-4118-bbef-b590536ae1ed\" class=\"colab-df-container\">\n",
              "    <div>\n",
              "<style scoped>\n",
              "    .dataframe tbody tr th:only-of-type {\n",
              "        vertical-align: middle;\n",
              "    }\n",
              "\n",
              "    .dataframe tbody tr th {\n",
              "        vertical-align: top;\n",
              "    }\n",
              "\n",
              "    .dataframe thead th {\n",
              "        text-align: right;\n",
              "    }\n",
              "</style>\n",
              "<table border=\"1\" class=\"dataframe\">\n",
              "  <thead>\n",
              "    <tr style=\"text-align: right;\">\n",
              "      <th></th>\n",
              "      <th>text</th>\n",
              "      <th>HOF</th>\n",
              "    </tr>\n",
              "  </thead>\n",
              "  <tbody>\n",
              "    <tr>\n",
              "      <th>95</th>\n",
              "      <td>#OperationFlagDrop[NEWLINE]#Trump2020 [NEWLINE...</td>\n",
              "      <td>Non-Hateful</td>\n",
              "    </tr>\n",
              "    <tr>\n",
              "      <th>43</th>\n",
              "      <td>Twitter is a service, not a right. KayLie spre...</td>\n",
              "      <td>Non-Hateful</td>\n",
              "    </tr>\n",
              "    <tr>\n",
              "      <th>250</th>\n",
              "      <td>See how the reporter covers for him? What the ...</td>\n",
              "      <td>Non-Hateful</td>\n",
              "    </tr>\n",
              "    <tr>\n",
              "      <th>249</th>\n",
              "      <td>Great to welcome new followers to my page incl...</td>\n",
              "      <td>Non-Hateful</td>\n",
              "    </tr>\n",
              "    <tr>\n",
              "      <th>58</th>\n",
              "      <td>If you are okay with being dependent on a syst...</td>\n",
              "      <td>Non-Hateful</td>\n",
              "    </tr>\n",
              "  </tbody>\n",
              "</table>\n",
              "</div>\n",
              "    <div class=\"colab-df-buttons\">\n",
              "\n",
              "  <div class=\"colab-df-container\">\n",
              "    <button class=\"colab-df-convert\" onclick=\"convertToInteractive('df-4381042b-33c2-4118-bbef-b590536ae1ed')\"\n",
              "            title=\"Convert this dataframe to an interactive table.\"\n",
              "            style=\"display:none;\">\n",
              "\n",
              "  <svg xmlns=\"http://www.w3.org/2000/svg\" height=\"24px\" viewBox=\"0 -960 960 960\">\n",
              "    <path d=\"M120-120v-720h720v720H120Zm60-500h600v-160H180v160Zm220 220h160v-160H400v160Zm0 220h160v-160H400v160ZM180-400h160v-160H180v160Zm440 0h160v-160H620v160ZM180-180h160v-160H180v160Zm440 0h160v-160H620v160Z\"/>\n",
              "  </svg>\n",
              "    </button>\n",
              "\n",
              "  <style>\n",
              "    .colab-df-container {\n",
              "      display:flex;\n",
              "      gap: 12px;\n",
              "    }\n",
              "\n",
              "    .colab-df-convert {\n",
              "      background-color: #E8F0FE;\n",
              "      border: none;\n",
              "      border-radius: 50%;\n",
              "      cursor: pointer;\n",
              "      display: none;\n",
              "      fill: #1967D2;\n",
              "      height: 32px;\n",
              "      padding: 0 0 0 0;\n",
              "      width: 32px;\n",
              "    }\n",
              "\n",
              "    .colab-df-convert:hover {\n",
              "      background-color: #E2EBFA;\n",
              "      box-shadow: 0px 1px 2px rgba(60, 64, 67, 0.3), 0px 1px 3px 1px rgba(60, 64, 67, 0.15);\n",
              "      fill: #174EA6;\n",
              "    }\n",
              "\n",
              "    .colab-df-buttons div {\n",
              "      margin-bottom: 4px;\n",
              "    }\n",
              "\n",
              "    [theme=dark] .colab-df-convert {\n",
              "      background-color: #3B4455;\n",
              "      fill: #D2E3FC;\n",
              "    }\n",
              "\n",
              "    [theme=dark] .colab-df-convert:hover {\n",
              "      background-color: #434B5C;\n",
              "      box-shadow: 0px 1px 3px 1px rgba(0, 0, 0, 0.15);\n",
              "      filter: drop-shadow(0px 1px 2px rgba(0, 0, 0, 0.3));\n",
              "      fill: #FFFFFF;\n",
              "    }\n",
              "  </style>\n",
              "\n",
              "    <script>\n",
              "      const buttonEl =\n",
              "        document.querySelector('#df-4381042b-33c2-4118-bbef-b590536ae1ed button.colab-df-convert');\n",
              "      buttonEl.style.display =\n",
              "        google.colab.kernel.accessAllowed ? 'block' : 'none';\n",
              "\n",
              "      async function convertToInteractive(key) {\n",
              "        const element = document.querySelector('#df-4381042b-33c2-4118-bbef-b590536ae1ed');\n",
              "        const dataTable =\n",
              "          await google.colab.kernel.invokeFunction('convertToInteractive',\n",
              "                                                    [key], {});\n",
              "        if (!dataTable) return;\n",
              "\n",
              "        const docLinkHtml = 'Like what you see? Visit the ' +\n",
              "          '<a target=\"_blank\" href=https://colab.research.google.com/notebooks/data_table.ipynb>data table notebook</a>'\n",
              "          + ' to learn more about interactive tables.';\n",
              "        element.innerHTML = '';\n",
              "        dataTable['output_type'] = 'display_data';\n",
              "        await google.colab.output.renderOutput(dataTable, element);\n",
              "        const docLink = document.createElement('div');\n",
              "        docLink.innerHTML = docLinkHtml;\n",
              "        element.appendChild(docLink);\n",
              "      }\n",
              "    </script>\n",
              "  </div>\n",
              "\n",
              "\n",
              "<div id=\"df-11fd72d4-ea88-4089-afc6-2c2553cbbeee\">\n",
              "  <button class=\"colab-df-quickchart\" onclick=\"quickchart('df-11fd72d4-ea88-4089-afc6-2c2553cbbeee')\"\n",
              "            title=\"Suggest charts.\"\n",
              "            style=\"display:none;\">\n",
              "\n",
              "<svg xmlns=\"http://www.w3.org/2000/svg\" height=\"24px\"viewBox=\"0 0 24 24\"\n",
              "     width=\"24px\">\n",
              "    <g>\n",
              "        <path d=\"M19 3H5c-1.1 0-2 .9-2 2v14c0 1.1.9 2 2 2h14c1.1 0 2-.9 2-2V5c0-1.1-.9-2-2-2zM9 17H7v-7h2v7zm4 0h-2V7h2v10zm4 0h-2v-4h2v4z\"/>\n",
              "    </g>\n",
              "</svg>\n",
              "  </button>\n",
              "\n",
              "<style>\n",
              "  .colab-df-quickchart {\n",
              "    background-color: #E8F0FE;\n",
              "    border: none;\n",
              "    border-radius: 50%;\n",
              "    cursor: pointer;\n",
              "    display: none;\n",
              "    fill: #1967D2;\n",
              "    height: 32px;\n",
              "    padding: 0 0 0 0;\n",
              "    width: 32px;\n",
              "  }\n",
              "\n",
              "  .colab-df-quickchart:hover {\n",
              "    background-color: #E2EBFA;\n",
              "    box-shadow: 0px 1px 2px rgba(60, 64, 67, 0.3), 0px 1px 3px 1px rgba(60, 64, 67, 0.15);\n",
              "    fill: #174EA6;\n",
              "  }\n",
              "\n",
              "  [theme=dark] .colab-df-quickchart {\n",
              "    background-color: #3B4455;\n",
              "    fill: #D2E3FC;\n",
              "  }\n",
              "\n",
              "  [theme=dark] .colab-df-quickchart:hover {\n",
              "    background-color: #434B5C;\n",
              "    box-shadow: 0px 1px 3px 1px rgba(0, 0, 0, 0.15);\n",
              "    filter: drop-shadow(0px 1px 2px rgba(0, 0, 0, 0.3));\n",
              "    fill: #FFFFFF;\n",
              "  }\n",
              "</style>\n",
              "\n",
              "  <script>\n",
              "    async function quickchart(key) {\n",
              "      const charts = await google.colab.kernel.invokeFunction(\n",
              "          'suggestCharts', [key], {});\n",
              "    }\n",
              "    (() => {\n",
              "      let quickchartButtonEl =\n",
              "        document.querySelector('#df-11fd72d4-ea88-4089-afc6-2c2553cbbeee button');\n",
              "      quickchartButtonEl.style.display =\n",
              "        google.colab.kernel.accessAllowed ? 'block' : 'none';\n",
              "    })();\n",
              "  </script>\n",
              "</div>\n",
              "    </div>\n",
              "  </div>\n"
            ]
          },
          "metadata": {}
        }
      ],
      "source": [
        "# Colab\n",
        "train = load_data('train.tsv', label='train')\n",
        "test = load_data('test.tsv', label='test')"
      ]
    },
    {
      "cell_type": "code",
      "execution_count": 9,
      "id": "5975a80f-1180-45c6-8559-6fe4571cb1b2",
      "metadata": {
        "id": "5975a80f-1180-45c6-8559-6fe4571cb1b2"
      },
      "outputs": [],
      "source": [
        "# Local\n",
        "# train = load_data(path=Path.cwd()/'data/GrimmingerKlingerWASSA2021/train.tsv', label='train')\n",
        "# test = load_data(path=Path.cwd()/'data/GrimmingerKlingerWASSA2021/test.tsv', label='test')"
      ]
    },
    {
      "cell_type": "code",
      "execution_count": 10,
      "id": "82c728a5-f3f6-4358-a7f7-1e4a10e95f02",
      "metadata": {
        "id": "82c728a5-f3f6-4358-a7f7-1e4a10e95f02"
      },
      "outputs": [],
      "source": [
        "# Are there any duplicates?\n",
        "assert len(train['text'].drop_duplicates()) == len(train['text'])\n",
        "assert len(test['text'].drop_duplicates()) == len(test['text'])"
      ]
    },
    {
      "cell_type": "markdown",
      "id": "d0015082-f682-4258-95f7-09317050a424",
      "metadata": {
        "id": "d0015082-f682-4258-95f7-09317050a424"
      },
      "source": [
        "## Quick inspection / visualisation"
      ]
    },
    {
      "cell_type": "code",
      "execution_count": 12,
      "id": "GFaUGVtu1zY_",
      "metadata": {
        "id": "GFaUGVtu1zY_",
        "outputId": "1095aa14-9c1b-4bfd-ee2a-b119bce7e163",
        "colab": {
          "base_uri": "https://localhost:8080/",
          "height": 599
        }
      },
      "outputs": [
        {
          "output_type": "stream",
          "name": "stdout",
          "text": [
            "Requirement already satisfied: matplotlib in /usr/local/lib/python3.10/dist-packages (3.7.1)\n",
            "Collecting matplotlib\n",
            "  Downloading matplotlib-3.7.2-cp310-cp310-manylinux_2_17_x86_64.manylinux2014_x86_64.whl (11.6 MB)\n",
            "\u001b[2K     \u001b[90m━━━━━━━━━━━━━━━━━━━━━━━━━━━━━━━━━━━━━━━━\u001b[0m \u001b[32m11.6/11.6 MB\u001b[0m \u001b[31m26.7 MB/s\u001b[0m eta \u001b[36m0:00:00\u001b[0m\n",
            "\u001b[?25hRequirement already satisfied: contourpy>=1.0.1 in /usr/local/lib/python3.10/dist-packages (from matplotlib) (1.1.0)\n",
            "Requirement already satisfied: cycler>=0.10 in /usr/local/lib/python3.10/dist-packages (from matplotlib) (0.11.0)\n",
            "Requirement already satisfied: fonttools>=4.22.0 in /usr/local/lib/python3.10/dist-packages (from matplotlib) (4.42.1)\n",
            "Requirement already satisfied: kiwisolver>=1.0.1 in /usr/local/lib/python3.10/dist-packages (from matplotlib) (1.4.4)\n",
            "Requirement already satisfied: numpy>=1.20 in /usr/local/lib/python3.10/dist-packages (from matplotlib) (1.23.5)\n",
            "Requirement already satisfied: packaging>=20.0 in /usr/local/lib/python3.10/dist-packages (from matplotlib) (23.1)\n",
            "Requirement already satisfied: pillow>=6.2.0 in /usr/local/lib/python3.10/dist-packages (from matplotlib) (9.4.0)\n",
            "Collecting pyparsing<3.1,>=2.3.1 (from matplotlib)\n",
            "  Downloading pyparsing-3.0.9-py3-none-any.whl (98 kB)\n",
            "\u001b[2K     \u001b[90m━━━━━━━━━━━━━━━━━━━━━━━━━━━━━━━━━━━━━━━━\u001b[0m \u001b[32m98.3/98.3 kB\u001b[0m \u001b[31m13.7 MB/s\u001b[0m eta \u001b[36m0:00:00\u001b[0m\n",
            "\u001b[?25hRequirement already satisfied: python-dateutil>=2.7 in /usr/local/lib/python3.10/dist-packages (from matplotlib) (2.8.2)\n",
            "Requirement already satisfied: six>=1.5 in /usr/local/lib/python3.10/dist-packages (from python-dateutil>=2.7->matplotlib) (1.16.0)\n",
            "Installing collected packages: pyparsing, matplotlib\n",
            "  Attempting uninstall: pyparsing\n",
            "    Found existing installation: pyparsing 3.1.1\n",
            "    Uninstalling pyparsing-3.1.1:\n",
            "      Successfully uninstalled pyparsing-3.1.1\n",
            "  Attempting uninstall: matplotlib\n",
            "    Found existing installation: matplotlib 3.7.1\n",
            "    Uninstalling matplotlib-3.7.1:\n",
            "      Successfully uninstalled matplotlib-3.7.1\n",
            "Successfully installed matplotlib-3.7.2 pyparsing-3.0.9\n"
          ]
        },
        {
          "output_type": "display_data",
          "data": {
            "application/vnd.colab-display-data+json": {
              "pip_warning": {
                "packages": [
                  "matplotlib",
                  "mpl_toolkits"
                ]
              }
            }
          },
          "metadata": {}
        }
      ],
      "source": [
        "!pip install matplotlib --upgrade"
      ]
    },
    {
      "cell_type": "code",
      "execution_count": 13,
      "id": "873a9381-da14-47f0-8bda-729af7e96705",
      "metadata": {
        "colab": {
          "base_uri": "https://localhost:8080/",
          "height": 406
        },
        "id": "873a9381-da14-47f0-8bda-729af7e96705",
        "outputId": "95720cbe-94dd-4f00-b9de-48fee22f6a01"
      },
      "outputs": [
        {
          "output_type": "display_data",
          "data": {
            "text/plain": [
              "<Figure size 1000x400 with 2 Axes>"
            ],
            "image/png": "[encoded data removed]"
          },
          "metadata": {}
        }
      ],
      "source": [
        "fig, ax = plt.subplots(1, 2, figsize=(10, 4))\n",
        "\n",
        "# Distribution by class\n",
        "ax[0].bar(x = train['HOF'].unique(), # Data labels\n",
        "       height = train['HOF'].value_counts().values, # Num of tweets in each category\n",
        "       color='purple')\n",
        "\n",
        "ax[0].bar_label(ax[0].containers[0], label_type='edge', padding=3) # Annotate bars\n",
        "ax[0].set_ylim(0, 2300) # Raise upper limit of y-axis, to accommodate labels\n",
        "\n",
        "ax[0].set_title(\"Number of hateful/non-hateful tweets in the train dataset\",\n",
        "             fontweight='bold', fontsize=10, y = 1.02)\n",
        "ax[0].set_ylabel(\"Number of tweets\")\n",
        "ax[0].set_xlabel('Tweet label')\n",
        "\n",
        "# Distribution by length\n",
        "ax[1].hist([len(tweet) for tweet in train['text'].apply(lambda x: x.split())],\n",
        "           color='orange', rwidth=0.8)\n",
        "ax[1].set_xlabel('Token count')\n",
        "ax[1].set_ylabel('Number of tweets')\n",
        "ax[1].set_title(\"Histogram of tweet length\",\n",
        "                fontweight='bold', fontsize=10, y = 1.02)\n",
        "\n",
        "\n",
        "plt.tight_layout()\n",
        "plt.show()"
      ]
    },
    {
      "cell_type": "markdown",
      "id": "00ac50bc-50b4-4618-813e-251c736e1e53",
      "metadata": {
        "id": "00ac50bc-50b4-4618-813e-251c736e1e53"
      },
      "source": [
        "## Preprocess data\n",
        "At this stage, I will just map the labels to integers. Later, I will conduct more preprocessing."
      ]
    },
    {
      "cell_type": "code",
      "execution_count": 14,
      "id": "066df694-72b8-413e-88d1-c264b33f8488",
      "metadata": {
        "id": "066df694-72b8-413e-88d1-c264b33f8488"
      },
      "outputs": [],
      "source": [
        "# Map labels to binary integers\n",
        "label2id = {'Non-Hateful': 0, 'Hateful': 1}\n",
        "train['HOF'] = train['HOF'].apply(lambda x: label2id[x])\n",
        "test['HOF'] = test['HOF'].apply(lambda x: label2id[x])"
      ]
    },
    {
      "cell_type": "markdown",
      "id": "d9879452-c9a7-4920-9593-80d9c6c0c88c",
      "metadata": {
        "id": "d9879452-c9a7-4920-9593-80d9c6c0c88c"
      },
      "source": [
        "## Deal with class imbalances\n",
        "For simplicity / for now, I'll just downsample from the majority ('Non-Hateful') class."
      ]
    },
    {
      "cell_type": "code",
      "execution_count": 15,
      "id": "1087ed2d-0e52-47ef-b505-aa20a93e7128",
      "metadata": {
        "colab": {
          "base_uri": "https://localhost:8080/"
        },
        "id": "1087ed2d-0e52-47ef-b505-aa20a93e7128",
        "outputId": "3e763345-23f2-4b51-b44e-a849ede0538c"
      },
      "outputs": [
        {
          "output_type": "stream",
          "name": "stdout",
          "text": [
            "Before downsampling: \n",
            "Hateful: 293\n",
            "Non-Hateful: 2107\n",
            "\n",
            "After downsampling: \n",
            "Hateful: 293\n",
            "Non-Hateful: 293\n"
          ]
        }
      ],
      "source": [
        "print('Before downsampling: ')\n",
        "print(f\"Hateful: {len(train[train['HOF']==1])}\")\n",
        "print(f\"Non-Hateful: {len(train[train['HOF']==0])}\")\n",
        "\n",
        "train_hateful = train[train['HOF']==1]\n",
        "train_nonhateful = train[train['HOF']==0].sample(len(train_hateful))\n",
        "train_downsampled = pd.concat([train_hateful, train_nonhateful], axis=0).sample(frac=1)\n",
        "\n",
        "print('\\nAfter downsampling: ')\n",
        "print(f\"Hateful: {len(train_downsampled[train_downsampled['HOF']==1])}\")\n",
        "print(f\"Non-Hateful: {len(train_downsampled[train_downsampled['HOF']==0])}\")"
      ]
    },
    {
      "cell_type": "markdown",
      "id": "45c14cfc-644a-4ec0-a8cb-1125cd0ebd2d",
      "metadata": {
        "id": "45c14cfc-644a-4ec0-a8cb-1125cd0ebd2d"
      },
      "source": [
        "## Split train data set into train and development sets\n",
        "To provide a way to assess the model's performance after each training loop."
      ]
    },
    {
      "cell_type": "code",
      "execution_count": 16,
      "id": "4d200564-3749-4a4a-a791-0f7bacaecf31",
      "metadata": {
        "id": "4d200564-3749-4a4a-a791-0f7bacaecf31"
      },
      "outputs": [],
      "source": [
        "# Split train data set into train and development sets\n",
        "train, dev = train_test_split(train_downsampled, test_size=0.5, stratify=train_downsampled['HOF'])"
      ]
    },
    {
      "cell_type": "markdown",
      "id": "dca382a5-9690-4b01-9d84-719637414aec",
      "metadata": {
        "id": "dca382a5-9690-4b01-9d84-719637414aec"
      },
      "source": [
        "## Prepare data\n",
        "\n",
        "Before we can build and train our model, we need to convert the text and labels into a format that is acceptable for the model. To do this, we need two tools:\n",
        "* `torch.utils.data.Dataset` - stores the samples and their corresponding labels. I also use it to create a simple pipeline for cleaning and tokenizing the tweets. I will use the `bert-base-uncased` tokenizer so that the tokenizer matches the model. This is because (1) the model has a specific, fixed vocabulary, and (2) the BERT tokenizer has a particular way of handling out-of-vocabulary words.\n",
        "* `torch.utils.data.DataLoader` - wraps an iterable around the `Dataset`, enabling us to iterate through the samples. Can also be used to transform the data (if you provide a custom `collate_fn`).\n"
      ]
    },
    {
      "cell_type": "code",
      "execution_count": 17,
      "id": "4abbc280-c5ae-450d-9b38-b916b676d2f4",
      "metadata": {
        "id": "4abbc280-c5ae-450d-9b38-b916b676d2f4"
      },
      "outputs": [],
      "source": [
        "# Clean the tweets' text\n",
        "def clean_text(tweet):\n",
        "    \"\"\"A function that performs basic cleaning of a tweet's text.\n",
        "    \"\"\"\n",
        "\n",
        "    # Replace mentions and URLs with special token\n",
        "    tweet = re.sub(r\"@[A-Za-z0-9_-]+\",'USR',tweet)\n",
        "    tweet = re.sub(r\"http\\S+\",'URL',tweet)\n",
        "\n",
        "    # Remove \\n and \\t characters\n",
        "    tweet = tweet.replace('\\n', ' ')\n",
        "    tweet = tweet.replace('[NEWLINE]', ' ')\n",
        "    tweet = tweet.replace('\\t', ' ')\n",
        "\n",
        "    # Strip whitespace\n",
        "    tweet = tweet.strip()\n",
        "\n",
        "    # Convert to lowercase\n",
        "    tweet = tweet.lower()\n",
        "\n",
        "    # return [w.strip(punctuation) for w in tweet.split() if w.strip(punctuation)!='']\n",
        "    return tweet\n",
        "\n",
        "# train['cleaned_text'] = train['text'].apply(lambda x: clean_text(x))\n",
        "# test['cleaned_text'] = test['text'].apply(lambda x: clean_text(x))"
      ]
    },
    {
      "cell_type": "code",
      "execution_count": 18,
      "id": "0888abca-b22f-4c39-9818-dd5d21da546f",
      "metadata": {
        "id": "0888abca-b22f-4c39-9818-dd5d21da546f",
        "tags": []
      },
      "outputs": [],
      "source": [
        "# Define Dataset class which cleans, tokenizes and encodes data\n",
        "class BERTDataset(Dataset):\n",
        "\n",
        "    def __init__(self, data):\n",
        "\n",
        "        # Initialize BERT tokenizer\n",
        "        # Note that I need to specify cache_dir because I'm using a venv\n",
        "        self.tok = BertTokenizer.from_pretrained('bert-base-uncased', cache_dir=Path.cwd()/'venv/lib/python3.8/site-packages')\n",
        "\n",
        "        # Clean tweets\n",
        "        self.cleaned_tweets = data['text'].apply(lambda x: clean_text(x))\n",
        "\n",
        "        # Truncate and encode tweets, up to max_length of 60\n",
        "        # While this is lower than BERT's max (512), it was chosen for computational speed\n",
        "        self.tweets = list(self.cleaned_tweets.apply(self.tok.encode, max_length=60, truncation=True))\n",
        "\n",
        "        # Store labels\n",
        "        self.labels = list(data['HOF'])\n",
        "\n",
        "    def __len__(self):\n",
        "        return len(self.labels)\n",
        "\n",
        "    def __getitem__(self, idx):\n",
        "        tweet = self.tweets[idx]\n",
        "        label = self.labels[idx]\n",
        "        return tweet, label\n",
        "\n",
        "# Inspect an example\n",
        "# BD = BERTDataset(train.iloc[:5])\n",
        "# next(iter(BD))"
      ]
    },
    {
      "cell_type": "code",
      "execution_count": 19,
      "id": "57e6c0f5-b979-4caa-a028-efada141ee4f",
      "metadata": {
        "id": "57e6c0f5-b979-4caa-a028-efada141ee4f"
      },
      "outputs": [],
      "source": [
        "# Define collate function to be passed to DataLoader\n",
        "def bert_collate(batch):\n",
        "\n",
        "    # Store batch size\n",
        "    batch_size = len(batch)\n",
        "\n",
        "    # Separate tweets and labels\n",
        "    tweets = [t for t, _ in batch]\n",
        "    labels = torch.tensor([l for _, l in batch]).long()\n",
        "\n",
        "    # Store length of longest tweet in batch\n",
        "    max_len = max(len(t) for t in tweets)\n",
        "\n",
        "    # Create padded tweet and attention mask tensors\n",
        "    tweets_pad = torch.zeros((batch_size, max_len)).long()\n",
        "    masks_pad = torch.zeros((batch_size, max_len)).long()\n",
        "    for i, t in enumerate(tweets):\n",
        "        tweets_pad[i, :len(t)] = torch.tensor(t)\n",
        "        masks_pad[i, :len(t)] = 1\n",
        "\n",
        "    return tweets_pad, masks_pad, labels"
      ]
    },
    {
      "cell_type": "code",
      "execution_count": 20,
      "id": "3be599e0-0659-455e-96ed-c11605c9449b",
      "metadata": {
        "colab": {
          "base_uri": "https://localhost:8080/",
          "height": 149,
          "referenced_widgets": [
            "d2d6ece1c68144279681bb00ef3e03d1",
            "e0368ef103bd4de7b9837dc4fe325413",
            "4dd8fb9758a94230831f65670870e9ec",
            "e6fb9596eda743c3a1d6451a9826f8df",
            "8c864f48db8f43a6a06bb3fef2f7b37e",
            "11338ba2cd3f4151a949299cbf9768a4",
            "fcb08c9a55f74c4d9b3c10f53d1ccbc9",
            "1c21df2421a74f98ad5f3f99824482c1",
            "7604048471854c268aab54128f7d68fa",
            "bb9223e3bca64a7aba4a36969e77817e",
            "a98a0bf6572b42ea9d91be445cc9431d",
            "705565b8a8a04b8cb28c87f9bbaae2c6",
            "9bdb685f81b345b5b829e83b0f304eed",
            "431e93a401c24073b24a9cb602658422",
            "3d0a318455ec437e8cd596df68a5281b",
            "aa4dfcc632a449fe8c2622c7fb435446",
            "15d3275fe528424dadaad09bf9a0571c",
            "963421b19bd740ffb7209c207e27612f",
            "279d72c7e1094bbdbd98043bb3589197",
            "aa8d862c5d364ed5b355b2531be62d83",
            "d7423a10258e4a37920e23f0a55321b5",
            "7e917eeb79114f36908d132a46b7bb7c",
            "89c6b23b8b6c423fbb1768cbb4f8ac34",
            "5af810a486bf4538ba83c60bc36be43c",
            "ab512080c1374e52aadf703d5ab12d26",
            "b1b70270883b49299f53657e07a8654d",
            "7b99a662808d4de6ae3d02d0cd2e7260",
            "2188caa308b14b378b09bde1214e922d",
            "10074559e515490db21400b02371be1e",
            "e9c64a30bf4648f9a5837a0dfb15c339",
            "3eb4ec2eed56441d9803dc0ce5ea6d40",
            "df29ee1b7bd648ffaea63218d1280d74",
            "00b1767198f24e1793c0a40df4b62744"
          ]
        },
        "id": "3be599e0-0659-455e-96ed-c11605c9449b",
        "outputId": "f1af9a75-e23e-4607-81bf-28561d463fa1"
      },
      "outputs": [
        {
          "output_type": "display_data",
          "data": {
            "text/plain": [
              "Downloading (…)solve/main/vocab.txt:   0%|          | 0.00/232k [00:00<?, ?B/s]"
            ],
            "application/vnd.jupyter.widget-view+json": {
              "version_major": 2,
              "version_minor": 0,
              "model_id": "d2d6ece1c68144279681bb00ef3e03d1"
            }
          },
          "metadata": {}
        },
        {
          "output_type": "display_data",
          "data": {
            "text/plain": [
              "Downloading (…)okenizer_config.json:   0%|          | 0.00/28.0 [00:00<?, ?B/s]"
            ],
            "application/vnd.jupyter.widget-view+json": {
              "version_major": 2,
              "version_minor": 0,
              "model_id": "705565b8a8a04b8cb28c87f9bbaae2c6"
            }
          },
          "metadata": {}
        },
        {
          "output_type": "display_data",
          "data": {
            "text/plain": [
              "Downloading (…)lve/main/config.json:   0%|          | 0.00/570 [00:00<?, ?B/s]"
            ],
            "application/vnd.jupyter.widget-view+json": {
              "version_major": 2,
              "version_minor": 0,
              "model_id": "89c6b23b8b6c423fbb1768cbb4f8ac34"
            }
          },
          "metadata": {}
        },
        {
          "output_type": "stream",
          "name": "stdout",
          "text": [
            "CPU times: user 1.98 s, sys: 18.2 ms, total: 2 s\n",
            "Wall time: 5.75 s\n"
          ]
        }
      ],
      "source": [
        "%%time\n",
        "\n",
        "# Create data sets\n",
        "train_dataset = BERTDataset(train)\n",
        "dev_dataset = BERTDataset(dev)\n",
        "test_dataset = BERTDataset(test)"
      ]
    },
    {
      "cell_type": "code",
      "execution_count": 21,
      "id": "e06f9d8d-92f3-4ea3-b8ea-cf7f6a149c4c",
      "metadata": {
        "id": "e06f9d8d-92f3-4ea3-b8ea-cf7f6a149c4c"
      },
      "outputs": [],
      "source": [
        "# Create data loaders using torch.utils.data.DataLoader class\n",
        "# Using shuffle=True instead of specifying RandomSampler\n",
        "train_loader = DataLoader(train_dataset, batch_size=100, collate_fn=bert_collate, shuffle=True)\n",
        "dev_loader = DataLoader(dev_dataset, batch_size=100, collate_fn=bert_collate)\n",
        "test_loader = DataLoader(test_dataset, batch_size=100, collate_fn=bert_collate)"
      ]
    },
    {
      "cell_type": "code",
      "execution_count": 22,
      "id": "0183c520-d528-4012-859d-4b66e103f0ed",
      "metadata": {
        "collapsed": true,
        "id": "0183c520-d528-4012-859d-4b66e103f0ed",
        "jupyter": {
          "outputs_hidden": true,
          "source_hidden": true
        },
        "tags": [],
        "outputId": "d854a124-bed4-49a8-f4e0-0796e863abdd",
        "colab": {
          "base_uri": "https://localhost:8080/"
        }
      },
      "outputs": [
        {
          "output_type": "stream",
          "name": "stdout",
          "text": [
            "\n",
            "\n",
            "--------------------- Batch 0 ---------------------\n",
            "\n",
            "There are 100 encoded tweets in this batch.\n",
            "Tweets (encoded):  tensor([[ 101, 8398, 1024,  ..., 1005, 1056,  102],\n",
            "        [ 101, 2149, 2099,  ...,    0,    0,    0],\n",
            "        [ 101, 2149, 2099,  ...,    0,    0,    0],\n",
            "        ...,\n",
            "        [ 101, 2149, 2099,  ...,    0,    0,    0],\n",
            "        [ 101, 2149, 2099,  ...,    0,    0,    0],\n",
            "        [ 101, 1045, 8415,  ...,    0,    0,    0]])\n",
            "There are 100 encoded labels in this batch. Here they are: \n",
            "Labels:  tensor([0, 0, 1, 0, 1, 0, 1, 0, 0, 1, 0, 0, 0, 0, 1, 0, 1, 1, 0, 1, 1, 0, 1, 1,\n",
            "        1, 1, 1, 1, 1, 0, 1, 1, 0, 0, 1, 0, 1, 1, 0, 0, 0, 1, 1, 0, 0, 1, 0, 0,\n",
            "        0, 0, 0, 1, 0, 1, 0, 0, 0, 1, 0, 1, 1, 0, 0, 1, 1, 1, 0, 0, 1, 0, 0, 1,\n",
            "        0, 0, 0, 1, 1, 0, 0, 1, 1, 0, 1, 1, 0, 0, 1, 1, 1, 1, 0, 0, 0, 1, 1, 1,\n",
            "        0, 0, 0, 1])\n",
            "\n",
            "\n",
            "--------------------- Batch 1 ---------------------\n",
            "\n",
            "There are 100 encoded tweets in this batch.\n",
            "Tweets (encoded):  tensor([[  101,  2149,  2099,  ...,     0,     0,     0],\n",
            "        [  101,  2061,  1045,  ..., 17258,  1001,   102],\n",
            "        [  101,  2065,  2028,  ...,     0,     0,     0],\n",
            "        ...,\n",
            "        [  101,  7226,  2368,  ...,     0,     0,     0],\n",
            "        [  101,  2149,  2099,  ...,  3597, 17258,   102],\n",
            "        [  101,  2149,  2099,  ...,     0,     0,     0]])\n",
            "There are 100 encoded labels in this batch. Here they are: \n",
            "Labels:  tensor([0, 1, 0, 1, 0, 1, 0, 0, 0, 0, 0, 1, 0, 1, 1, 0, 0, 1, 1, 1, 1, 0, 0, 0,\n",
            "        1, 0, 0, 0, 0, 0, 0, 0, 0, 0, 1, 1, 0, 1, 0, 0, 0, 1, 0, 0, 0, 0, 0, 1,\n",
            "        1, 0, 1, 1, 0, 1, 1, 1, 0, 1, 1, 0, 0, 1, 1, 1, 0, 1, 0, 0, 1, 1, 1, 1,\n",
            "        1, 0, 0, 1, 1, 1, 1, 0, 1, 0, 0, 0, 1, 0, 0, 0, 1, 1, 1, 1, 1, 1, 1, 1,\n",
            "        0, 0, 1, 0])\n",
            "\n",
            "\n",
            "--------------------- Batch 2 ---------------------\n",
            "\n",
            "There are 93 encoded tweets in this batch.\n",
            "Tweets (encoded):  tensor([[ 101, 2030, 2074,  ...,    0,    0,    0],\n",
            "        [ 101, 2149, 2099,  ...,    0,    0,    0],\n",
            "        [ 101, 2149, 2099,  ...,    0,    0,    0],\n",
            "        ...,\n",
            "        [ 101, 2061, 1012,  ...,    0,    0,    0],\n",
            "        [ 101, 1045, 2074,  ...,    0,    0,    0],\n",
            "        [ 101, 2149, 2099,  ...,    0,    0,    0]])\n",
            "There are 93 encoded labels in this batch. Here they are: \n",
            "Labels:  tensor([1, 1, 0, 0, 1, 1, 1, 1, 0, 0, 0, 1, 0, 1, 1, 1, 1, 0, 1, 0, 1, 1, 1, 0,\n",
            "        0, 0, 1, 0, 1, 0, 0, 0, 1, 1, 0, 0, 1, 0, 0, 0, 1, 0, 0, 1, 0, 1, 1, 0,\n",
            "        0, 1, 1, 1, 0, 1, 0, 1, 0, 0, 0, 1, 1, 1, 1, 1, 1, 0, 0, 0, 1, 1, 0, 0,\n",
            "        1, 1, 1, 0, 1, 0, 1, 0, 0, 1, 0, 1, 1, 1, 1, 1, 1, 1, 0, 0, 1])\n"
          ]
        }
      ],
      "source": [
        "# Inspect\n",
        "for (idx, batch) in enumerate(train_loader):\n",
        "\n",
        "    print(f'\\n\\n--------------------- Batch {idx} ---------------------\\n')\n",
        "\n",
        "    # Print the text\n",
        "    print(f\"There are {len(batch[0])} encoded tweets in this batch.\")\n",
        "    print('Tweets (encoded): ', batch[0])\n",
        "\n",
        "    # Print the label\n",
        "    print(f\"There are {len(batch[2])} encoded labels in this batch. Here they are: \")\n",
        "    print('Labels: ', batch[2])"
      ]
    },
    {
      "cell_type": "code",
      "execution_count": 23,
      "id": "31a5d582-1871-4060-89e4-f9309672d486",
      "metadata": {
        "id": "31a5d582-1871-4060-89e4-f9309672d486"
      },
      "outputs": [],
      "source": [
        "# Define BERT classifier\n",
        "class BERTClassifier(nn.Module):\n",
        "\n",
        "    def __init__(self):\n",
        "\n",
        "        # Specify network layers\n",
        "        # Note that I need to specify cache as I'm using a venv\n",
        "        super(BERTClassifier, self).__init__()\n",
        "        self.bert = BertModel.from_pretrained('bert-base-uncased', cache_dir=Path.cwd()/'venv/lib/python3.8/site-packages')\n",
        "        self.linear = nn.Linear(768, 4)\n",
        "\n",
        "        # Define dropout\n",
        "        self.dropout = nn.Dropout(0.2)\n",
        "\n",
        "        # Freeze BERT layers\n",
        "        for n, p in self.bert.named_parameters():\n",
        "            p.requires_grad = False\n",
        "\n",
        "    def forward(self, tweets, masks):\n",
        "\n",
        "        # Define flow of tensors through the network\n",
        "        output_bert = self.bert(tweets, attention_mask=masks)[0].mean(axis=1)\n",
        "        return self.linear(self.dropout(output_bert))"
      ]
    },
    {
      "cell_type": "code",
      "execution_count": 24,
      "id": "b06d91fe-61c5-41e4-b898-df69453cd32e",
      "metadata": {
        "colab": {
          "base_uri": "https://localhost:8080/",
          "height": 49,
          "referenced_widgets": [
            "4f9c8d03ee284c6cbcebadd5f6782c0a",
            "4d4e9003d17f4bb88feecbcbab3e4e26",
            "7b48282f59634821a7c3219d2bc7d289",
            "92db4f2036a84ed3a05efb7a32201c65",
            "751e24570df1420891ed10bef4da83c2",
            "3e4b3433ce6046ab8a5c371c008c8da7",
            "b9590d147a024bc79403d7b975a8e2e8",
            "57d48fbb78bc487a95a235b985fab4ab",
            "202e1499426848dc9ef6adae49e70fc7",
            "c1f03637623d47a0b8d0993193088780",
            "6635383bd5af4ee09b086e423c2cf5ce"
          ]
        },
        "id": "b06d91fe-61c5-41e4-b898-df69453cd32e",
        "outputId": "7e49b484-1c46-49ae-a842-e6fadabca1dd"
      },
      "outputs": [
        {
          "output_type": "display_data",
          "data": {
            "text/plain": [
              "Downloading model.safetensors:   0%|          | 0.00/440M [00:00<?, ?B/s]"
            ],
            "application/vnd.jupyter.widget-view+json": {
              "version_major": 2,
              "version_minor": 0,
              "model_id": "4f9c8d03ee284c6cbcebadd5f6782c0a"
            }
          },
          "metadata": {}
        }
      ],
      "source": [
        "# Initialise model\n",
        "model = BERTClassifier()"
      ]
    },
    {
      "cell_type": "markdown",
      "id": "407b8317-9e4c-4978-b7fb-c16c8fa840fa",
      "metadata": {
        "id": "407b8317-9e4c-4978-b7fb-c16c8fa840fa"
      },
      "source": [
        "The warning above: This only means that the pretrained head of the BERT model is discarded, and replaced with a randomly initialised classification head. It doesn't matter that this is randomly initialised because we will now fine-tune this new model head via training below."
      ]
    },
    {
      "cell_type": "code",
      "execution_count": 25,
      "id": "87742036-3111-4fe1-a096-4e0be8e2fd03",
      "metadata": {
        "id": "87742036-3111-4fe1-a096-4e0be8e2fd03"
      },
      "outputs": [],
      "source": [
        "# Move model to device\n",
        "model = model.to(device)"
      ]
    },
    {
      "cell_type": "code",
      "execution_count": 26,
      "id": "5c1edb0b-dc7f-4bc4-ba17-9ef101dcd947",
      "metadata": {
        "id": "5c1edb0b-dc7f-4bc4-ba17-9ef101dcd947"
      },
      "outputs": [],
      "source": [
        "# Define optimiser, objective function and epochs\n",
        "optimizer = optim.Adam(model.parameters(), lr=0.01)\n",
        "criterion = nn.CrossEntropyLoss()\n",
        "epochs = 5"
      ]
    },
    {
      "cell_type": "code",
      "execution_count": 27,
      "id": "16c17511-01e1-4356-bdbc-8ecfc61594a5",
      "metadata": {
        "colab": {
          "base_uri": "https://localhost:8080/"
        },
        "id": "16c17511-01e1-4356-bdbc-8ecfc61594a5",
        "outputId": "6088f782-4881-48b6-bb1f-2e168d2516b3"
      },
      "outputs": [
        {
          "output_type": "stream",
          "name": "stderr",
          "text": [
            "100%|██████████| 3/3 [00:04<00:00,  1.40s/it]\n"
          ]
        },
        {
          "output_type": "stream",
          "name": "stdout",
          "text": [
            "Accuracy after 1 epoch(s): 0.6313993174061433\n"
          ]
        },
        {
          "output_type": "stream",
          "name": "stderr",
          "text": [
            "100%|██████████| 3/3 [00:00<00:00,  3.45it/s]\n"
          ]
        },
        {
          "output_type": "stream",
          "name": "stdout",
          "text": [
            "Accuracy after 2 epoch(s): 0.6757679180887372\n"
          ]
        },
        {
          "output_type": "stream",
          "name": "stderr",
          "text": [
            "100%|██████████| 3/3 [00:00<00:00,  3.43it/s]\n"
          ]
        },
        {
          "output_type": "stream",
          "name": "stdout",
          "text": [
            "Accuracy after 3 epoch(s): 0.6450511945392492\n"
          ]
        },
        {
          "output_type": "stream",
          "name": "stderr",
          "text": [
            "100%|██████████| 3/3 [00:00<00:00,  3.46it/s]\n"
          ]
        },
        {
          "output_type": "stream",
          "name": "stdout",
          "text": [
            "Accuracy after 4 epoch(s): 0.6450511945392492\n",
            "CPU times: user 7.27 s, sys: 126 ms, total: 7.39 s\n",
            "Wall time: 10.3 s\n"
          ]
        }
      ],
      "source": [
        "%%time\n",
        "\n",
        "# Train model\n",
        "for epoch_i in range(1, epochs):\n",
        "\n",
        "    # ========================================\n",
        "    #               Training\n",
        "    # ========================================\n",
        "\n",
        "    # Put model into training mode. This is necessary so that the `Dropout`\n",
        "    # layers are activated.\n",
        "    model.train()\n",
        "\n",
        "    # For each batch of the training data...\n",
        "    for i, batch in enumerate(tqdm(train_loader)):\n",
        "\n",
        "        # Step 1. Since PyTorch accumulates gradients, clear any previously\n",
        "        # calculated gradients before performing a backward pass.\n",
        "        # PyTorch doesn't do this automatically because it can be useful while\n",
        "        # training RNNs.\n",
        "        optimizer.zero_grad()\n",
        "\n",
        "        # Step 2. Extract data and move to device.\n",
        "        tweets, masks, labels = [t.to(device) for t in batch]\n",
        "\n",
        "        # Step 3. Forward pass - note that calling `model()` will in turn call\n",
        "        # the model's `forward()` function.\n",
        "        output = model(tweets, masks)\n",
        "\n",
        "        # Step 4. Compute loss.\n",
        "        loss = criterion(output, labels)\n",
        "\n",
        "        # Step 5. Perform backward pass to calculate gradients wrt each w and b term.\n",
        "        loss.backward()\n",
        "\n",
        "        # Step 6. Clip the norm of the gradients to 1.0.\n",
        "        # This is to help prevent the \"exploding gradients\" problem.\n",
        "        torch.nn.utils.clip_grad_norm_(model.parameters(), 1.0)\n",
        "\n",
        "        # Step 7. Update parameters and take a step using the computed gradient.\n",
        "        optimizer.step()\n",
        "\n",
        "    # ========================================\n",
        "    #               Validation\n",
        "    # ========================================\n",
        "\n",
        "    # After the completion of each training epoch, measure our performance on\n",
        "    # our validation set.\n",
        "    # Put model into evaluation mode, thereby deactivating Dropout layer.\n",
        "    model.eval()\n",
        "\n",
        "    y_true = list()\n",
        "    y_pred = list()\n",
        "\n",
        "    with torch.no_grad(): # We no longer need it to store computation graph.\n",
        "        for batch in dev_loader:\n",
        "            tweets, masks, labels = [t.to(device) for t in batch]\n",
        "            output = model(tweets, masks)\n",
        "            max_output = output.argmax(dim=1)\n",
        "            y_true.extend(labels.tolist())\n",
        "            y_pred.extend(max_output.tolist())\n",
        "\n",
        "    print(f\"Accuracy after {epoch_i} epoch(s): {accuracy_score(y_true, y_pred)}\")"
      ]
    },
    {
      "cell_type": "code",
      "execution_count": 28,
      "id": "402beb9a-c8d5-4f89-a06f-59850751da81",
      "metadata": {
        "colab": {
          "base_uri": "https://localhost:8080/",
          "height": 416
        },
        "id": "402beb9a-c8d5-4f89-a06f-59850751da81",
        "outputId": "121c8674-a210-4977-a3e8-514d9d9a5995"
      },
      "outputs": [
        {
          "output_type": "stream",
          "name": "stdout",
          "text": [
            "Test accuracy: 0.53\n",
            "\n",
            "Classification report: \n",
            "               precision    recall  f1-score   support\n",
            "\n",
            "           0       0.98      0.49      0.65       541\n",
            "           1       0.16      0.90      0.27        59\n",
            "\n",
            "    accuracy                           0.53       600\n",
            "   macro avg       0.57      0.69      0.46       600\n",
            "weighted avg       0.90      0.53      0.62       600\n",
            "\n",
            "\n",
            "Confusion matrix: \n",
            "\n"
          ]
        },
        {
          "output_type": "display_data",
          "data": {
            "text/plain": [
              "                   Predicted: Unhateful  Predicted: Hateful\n",
              "Actual: Unhateful                   266                 275\n",
              "Actual: Hateful                       6                  53"
            ],
            "text/html": [
              "\n",
              "  <div id=\"df-1126230c-423a-4e94-964e-be3a12e0b166\" class=\"colab-df-container\">\n",
              "    <div>\n",
              "<style scoped>\n",
              "    .dataframe tbody tr th:only-of-type {\n",
              "        vertical-align: middle;\n",
              "    }\n",
              "\n",
              "    .dataframe tbody tr th {\n",
              "        vertical-align: top;\n",
              "    }\n",
              "\n",
              "    .dataframe thead th {\n",
              "        text-align: right;\n",
              "    }\n",
              "</style>\n",
              "<table border=\"1\" class=\"dataframe\">\n",
              "  <thead>\n",
              "    <tr style=\"text-align: right;\">\n",
              "      <th></th>\n",
              "      <th>Predicted: Unhateful</th>\n",
              "      <th>Predicted: Hateful</th>\n",
              "    </tr>\n",
              "  </thead>\n",
              "  <tbody>\n",
              "    <tr>\n",
              "      <th>Actual: Unhateful</th>\n",
              "      <td>266</td>\n",
              "      <td>275</td>\n",
              "    </tr>\n",
              "    <tr>\n",
              "      <th>Actual: Hateful</th>\n",
              "      <td>6</td>\n",
              "      <td>53</td>\n",
              "    </tr>\n",
              "  </tbody>\n",
              "</table>\n",
              "</div>\n",
              "    <div class=\"colab-df-buttons\">\n",
              "\n",
              "  <div class=\"colab-df-container\">\n",
              "    <button class=\"colab-df-convert\" onclick=\"convertToInteractive('df-1126230c-423a-4e94-964e-be3a12e0b166')\"\n",
              "            title=\"Convert this dataframe to an interactive table.\"\n",
              "            style=\"display:none;\">\n",
              "\n",
              "  <svg xmlns=\"http://www.w3.org/2000/svg\" height=\"24px\" viewBox=\"0 -960 960 960\">\n",
              "    <path d=\"M120-120v-720h720v720H120Zm60-500h600v-160H180v160Zm220 220h160v-160H400v160Zm0 220h160v-160H400v160ZM180-400h160v-160H180v160Zm440 0h160v-160H620v160ZM180-180h160v-160H180v160Zm440 0h160v-160H620v160Z\"/>\n",
              "  </svg>\n",
              "    </button>\n",
              "\n",
              "  <style>\n",
              "    .colab-df-container {\n",
              "      display:flex;\n",
              "      gap: 12px;\n",
              "    }\n",
              "\n",
              "    .colab-df-convert {\n",
              "      background-color: #E8F0FE;\n",
              "      border: none;\n",
              "      border-radius: 50%;\n",
              "      cursor: pointer;\n",
              "      display: none;\n",
              "      fill: #1967D2;\n",
              "      height: 32px;\n",
              "      padding: 0 0 0 0;\n",
              "      width: 32px;\n",
              "    }\n",
              "\n",
              "    .colab-df-convert:hover {\n",
              "      background-color: #E2EBFA;\n",
              "      box-shadow: 0px 1px 2px rgba(60, 64, 67, 0.3), 0px 1px 3px 1px rgba(60, 64, 67, 0.15);\n",
              "      fill: #174EA6;\n",
              "    }\n",
              "\n",
              "    .colab-df-buttons div {\n",
              "      margin-bottom: 4px;\n",
              "    }\n",
              "\n",
              "    [theme=dark] .colab-df-convert {\n",
              "      background-color: #3B4455;\n",
              "      fill: #D2E3FC;\n",
              "    }\n",
              "\n",
              "    [theme=dark] .colab-df-convert:hover {\n",
              "      background-color: #434B5C;\n",
              "      box-shadow: 0px 1px 3px 1px rgba(0, 0, 0, 0.15);\n",
              "      filter: drop-shadow(0px 1px 2px rgba(0, 0, 0, 0.3));\n",
              "      fill: #FFFFFF;\n",
              "    }\n",
              "  </style>\n",
              "\n",
              "    <script>\n",
              "      const buttonEl =\n",
              "        document.querySelector('#df-1126230c-423a-4e94-964e-be3a12e0b166 button.colab-df-convert');\n",
              "      buttonEl.style.display =\n",
              "        google.colab.kernel.accessAllowed ? 'block' : 'none';\n",
              "\n",
              "      async function convertToInteractive(key) {\n",
              "        const element = document.querySelector('#df-1126230c-423a-4e94-964e-be3a12e0b166');\n",
              "        const dataTable =\n",
              "          await google.colab.kernel.invokeFunction('convertToInteractive',\n",
              "                                                    [key], {});\n",
              "        if (!dataTable) return;\n",
              "\n",
              "        const docLinkHtml = 'Like what you see? Visit the ' +\n",
              "          '<a target=\"_blank\" href=https://colab.research.google.com/notebooks/data_table.ipynb>data table notebook</a>'\n",
              "          + ' to learn more about interactive tables.';\n",
              "        element.innerHTML = '';\n",
              "        dataTable['output_type'] = 'display_data';\n",
              "        await google.colab.output.renderOutput(dataTable, element);\n",
              "        const docLink = document.createElement('div');\n",
              "        docLink.innerHTML = docLinkHtml;\n",
              "        element.appendChild(docLink);\n",
              "      }\n",
              "    </script>\n",
              "  </div>\n",
              "\n",
              "    </div>\n",
              "  </div>\n"
            ]
          },
          "metadata": {}
        },
        {
          "output_type": "stream",
          "name": "stdout",
          "text": [
            "CPU times: user 1.65 s, sys: 4.82 ms, total: 1.66 s\n",
            "Wall time: 1.91 s\n"
          ]
        }
      ],
      "source": [
        "%%time\n",
        "\n",
        "# ========================================\n",
        "#               Evaluation\n",
        "# ========================================\n",
        "\n",
        "# Evaluate model on test data\n",
        "model.eval()\n",
        "\n",
        "y_true = list()\n",
        "y_pred = list()\n",
        "\n",
        "with torch.no_grad():\n",
        "    for batch in test_loader:\n",
        "        tweets, masks, labels = [t.to(device) for t in batch]\n",
        "        output = model(tweets, masks)\n",
        "        max_output = output.argmax(dim=1)\n",
        "        y_true.extend(labels.tolist())\n",
        "        y_pred.extend(max_output.tolist())\n",
        "\n",
        "print('Test accuracy: {:.2f}'.format(accuracy_score(y_true, y_pred)))\n",
        "print('\\nClassification report: \\n', classification_report(y_true, y_pred))\n",
        "print('\\nConfusion matrix: \\n')\n",
        "display(pd.DataFrame({\"Predicted: Unhateful\": confusion_matrix(y_true, y_pred)[:, 0],\n",
        "              \"Predicted: Hateful\": confusion_matrix(y_true, y_pred)[:, 1]},\n",
        "             index=['Actual: Unhateful', 'Actual: Hateful']))"
      ]
    },
    {
      "cell_type": "markdown",
      "id": "b686f4a4-e904-4783-ae21-8cac3474204a",
      "metadata": {
        "id": "b686f4a4-e904-4783-ae21-8cac3474204a"
      },
      "source": [
        "## Comparison to baselines"
      ]
    },
    {
      "cell_type": "markdown",
      "id": "f86d0ccc-b242-46b4-8a94-1847ad039b62",
      "metadata": {
        "id": "f86d0ccc-b242-46b4-8a94-1847ad039b62"
      },
      "source": [
        "### Basic baselines"
      ]
    },
    {
      "cell_type": "code",
      "execution_count": 29,
      "id": "5497a5f6-e58d-4570-9e01-1d8af287eb18",
      "metadata": {
        "id": "5497a5f6-e58d-4570-9e01-1d8af287eb18",
        "outputId": "1d0760ea-644e-40cb-b940-74ba5235717d",
        "tags": [],
        "colab": {
          "base_uri": "https://localhost:8080/"
        }
      },
      "outputs": [
        {
          "output_type": "stream",
          "name": "stdout",
          "text": [
            "              precision    recall  f1-score   support\n",
            "\n",
            "           0       0.90      1.00      0.95       541\n",
            "           1       0.00      0.00      0.00        59\n",
            "\n",
            "    accuracy                           0.90       600\n",
            "   macro avg       0.45      0.50      0.47       600\n",
            "weighted avg       0.81      0.90      0.86       600\n",
            "\n"
          ]
        },
        {
          "output_type": "stream",
          "name": "stderr",
          "text": [
            "/usr/local/lib/python3.10/dist-packages/sklearn/metrics/_classification.py:1344: UndefinedMetricWarning: Precision and F-score are ill-defined and being set to 0.0 in labels with no predicted samples. Use `zero_division` parameter to control this behavior.\n",
            "  _warn_prf(average, modifier, msg_start, len(result))\n",
            "/usr/local/lib/python3.10/dist-packages/sklearn/metrics/_classification.py:1344: UndefinedMetricWarning: Precision and F-score are ill-defined and being set to 0.0 in labels with no predicted samples. Use `zero_division` parameter to control this behavior.\n",
            "  _warn_prf(average, modifier, msg_start, len(result))\n",
            "/usr/local/lib/python3.10/dist-packages/sklearn/metrics/_classification.py:1344: UndefinedMetricWarning: Precision and F-score are ill-defined and being set to 0.0 in labels with no predicted samples. Use `zero_division` parameter to control this behavior.\n",
            "  _warn_prf(average, modifier, msg_start, len(result))\n"
          ]
        }
      ],
      "source": [
        "# Predict all majority class\n",
        "y_pred = [0] * len(test)\n",
        "y_true = test['HOF']\n",
        "print(classification_report(y_true, y_pred))"
      ]
    },
    {
      "cell_type": "code",
      "execution_count": 30,
      "id": "3135979f-ed60-427a-b3a4-079959dd6693",
      "metadata": {
        "id": "3135979f-ed60-427a-b3a4-079959dd6693",
        "outputId": "9ec931ba-5640-4d0d-c753-b3121003eb35",
        "colab": {
          "base_uri": "https://localhost:8080/"
        }
      },
      "outputs": [
        {
          "output_type": "stream",
          "name": "stdout",
          "text": [
            "              precision    recall  f1-score   support\n",
            "\n",
            "           0       0.90      0.90      0.90       541\n",
            "           1       0.07      0.07      0.07        59\n",
            "\n",
            "    accuracy                           0.82       600\n",
            "   macro avg       0.48      0.48      0.48       600\n",
            "weighted avg       0.82      0.82      0.82       600\n",
            "\n"
          ]
        }
      ],
      "source": [
        "# Probabilistic guess\n",
        "maj_prob, min_prob = test['HOF'].value_counts(normalize=True).values\n",
        "y_pred = [0]*int(maj_prob*len(test)) + [1]*int(min_prob*len(test))\n",
        "y_pred = random.sample(y_pred, len(y_pred))\n",
        "print(classification_report(y_true, y_pred))"
      ]
    },
    {
      "cell_type": "code",
      "execution_count": null,
      "id": "933794ec-8fb1-4e95-97d1-d28994d5dad1",
      "metadata": {
        "id": "933794ec-8fb1-4e95-97d1-d28994d5dad1"
      },
      "outputs": [],
      "source": []
    }
  ],
  "metadata": {
    "accelerator": "GPU",
    "colab": {
      "provenance": []
    },
    "kernelspec": {
      "display_name": "Python 3",
      "name": "python3"
    },
    "language_info": {
      "name": "python"
    },
    "widgets": {
      "application/vnd.jupyter.widget-state+json": {
        "d2d6ece1c68144279681bb00ef3e03d1": {
          "model_module": "@jupyter-widgets/controls",
          "model_name": "HBoxModel",
          "model_module_version": "1.5.0",
          "state": {
            "_dom_classes": [],
            "_model_module": "@jupyter-widgets/controls",
            "_model_module_version": "1.5.0",
            "_model_name": "HBoxModel",
            "_view_count": null,
            "_view_module": "@jupyter-widgets/controls",
            "_view_module_version": "1.5.0",
            "_view_name": "HBoxView",
            "box_style": "",
            "children": [
              "IPY_MODEL_e0368ef103bd4de7b9837dc4fe325413",
              "IPY_MODEL_4dd8fb9758a94230831f65670870e9ec",
              "IPY_MODEL_e6fb9596eda743c3a1d6451a9826f8df"
            ],
            "layout": "IPY_MODEL_8c864f48db8f43a6a06bb3fef2f7b37e"
          }
        },
        "e0368ef103bd4de7b9837dc4fe325413": {
          "model_module": "@jupyter-widgets/controls",
          "model_name": "HTMLModel",
          "model_module_version": "1.5.0",
          "state": {
            "_dom_classes": [],
            "_model_module": "@jupyter-widgets/controls",
            "_model_module_version": "1.5.0",
            "_model_name": "HTMLModel",
            "_view_count": null,
            "_view_module": "@jupyter-widgets/controls",
            "_view_module_version": "1.5.0",
            "_view_name": "HTMLView",
            "description": "",
            "description_tooltip": null,
            "layout": "IPY_MODEL_11338ba2cd3f4151a949299cbf9768a4",
            "placeholder": "​",
            "style": "IPY_MODEL_fcb08c9a55f74c4d9b3c10f53d1ccbc9",
            "value": "Downloading (…)solve/main/vocab.txt: 100%"
          }
        },
        "4dd8fb9758a94230831f65670870e9ec": {
          "model_module": "@jupyter-widgets/controls",
          "model_name": "FloatProgressModel",
          "model_module_version": "1.5.0",
          "state": {
            "_dom_classes": [],
            "_model_module": "@jupyter-widgets/controls",
            "_model_module_version": "1.5.0",
            "_model_name": "FloatProgressModel",
            "_view_count": null,
            "_view_module": "@jupyter-widgets/controls",
            "_view_module_version": "1.5.0",
            "_view_name": "ProgressView",
            "bar_style": "success",
            "description": "",
            "description_tooltip": null,
            "layout": "IPY_MODEL_1c21df2421a74f98ad5f3f99824482c1",
            "max": 231508,
            "min": 0,
            "orientation": "horizontal",
            "style": "IPY_MODEL_7604048471854c268aab54128f7d68fa",
            "value": 231508
          }
        },
        "e6fb9596eda743c3a1d6451a9826f8df": {
          "model_module": "@jupyter-widgets/controls",
          "model_name": "HTMLModel",
          "model_module_version": "1.5.0",
          "state": {
            "_dom_classes": [],
            "_model_module": "@jupyter-widgets/controls",
            "_model_module_version": "1.5.0",
            "_model_name": "HTMLModel",
            "_view_count": null,
            "_view_module": "@jupyter-widgets/controls",
            "_view_module_version": "1.5.0",
            "_view_name": "HTMLView",
            "description": "",
            "description_tooltip": null,
            "layout": "IPY_MODEL_bb9223e3bca64a7aba4a36969e77817e",
            "placeholder": "​",
            "style": "IPY_MODEL_a98a0bf6572b42ea9d91be445cc9431d",
            "value": " 232k/232k [00:00&lt;00:00, 3.36MB/s]"
          }
        },
        "8c864f48db8f43a6a06bb3fef2f7b37e": {
          "model_module": "@jupyter-widgets/base",
          "model_name": "LayoutModel",
          "model_module_version": "1.2.0",
          "state": {
            "_model_module": "@jupyter-widgets/base",
            "_model_module_version": "1.2.0",
            "_model_name": "LayoutModel",
            "_view_count": null,
            "_view_module": "@jupyter-widgets/base",
            "_view_module_version": "1.2.0",
            "_view_name": "LayoutView",
            "align_content": null,
            "align_items": null,
            "align_self": null,
            "border": null,
            "bottom": null,
            "display": null,
            "flex": null,
            "flex_flow": null,
            "grid_area": null,
            "grid_auto_columns": null,
            "grid_auto_flow": null,
            "grid_auto_rows": null,
            "grid_column": null,
            "grid_gap": null,
            "grid_row": null,
            "grid_template_areas": null,
            "grid_template_columns": null,
            "grid_template_rows": null,
            "height": null,
            "justify_content": null,
            "justify_items": null,
            "left": null,
            "margin": null,
            "max_height": null,
            "max_width": null,
            "min_height": null,
            "min_width": null,
            "object_fit": null,
            "object_position": null,
            "order": null,
            "overflow": null,
            "overflow_x": null,
            "overflow_y": null,
            "padding": null,
            "right": null,
            "top": null,
            "visibility": null,
            "width": null
          }
        },
        "11338ba2cd3f4151a949299cbf9768a4": {
          "model_module": "@jupyter-widgets/base",
          "model_name": "LayoutModel",
          "model_module_version": "1.2.0",
          "state": {
            "_model_module": "@jupyter-widgets/base",
            "_model_module_version": "1.2.0",
            "_model_name": "LayoutModel",
            "_view_count": null,
            "_view_module": "@jupyter-widgets/base",
            "_view_module_version": "1.2.0",
            "_view_name": "LayoutView",
            "align_content": null,
            "align_items": null,
            "align_self": null,
            "border": null,
            "bottom": null,
            "display": null,
            "flex": null,
            "flex_flow": null,
            "grid_area": null,
            "grid_auto_columns": null,
            "grid_auto_flow": null,
            "grid_auto_rows": null,
            "grid_column": null,
            "grid_gap": null,
            "grid_row": null,
            "grid_template_areas": null,
            "grid_template_columns": null,
            "grid_template_rows": null,
            "height": null,
            "justify_content": null,
            "justify_items": null,
            "left": null,
            "margin": null,
            "max_height": null,
            "max_width": null,
            "min_height": null,
            "min_width": null,
            "object_fit": null,
            "object_position": null,
            "order": null,
            "overflow": null,
            "overflow_x": null,
            "overflow_y": null,
            "padding": null,
            "right": null,
            "top": null,
            "visibility": null,
            "width": null
          }
        },
        "fcb08c9a55f74c4d9b3c10f53d1ccbc9": {
          "model_module": "@jupyter-widgets/controls",
          "model_name": "DescriptionStyleModel",
          "model_module_version": "1.5.0",
          "state": {
            "_model_module": "@jupyter-widgets/controls",
            "_model_module_version": "1.5.0",
            "_model_name": "DescriptionStyleModel",
            "_view_count": null,
            "_view_module": "@jupyter-widgets/base",
            "_view_module_version": "1.2.0",
            "_view_name": "StyleView",
            "description_width": ""
          }
        },
        "1c21df2421a74f98ad5f3f99824482c1": {
          "model_module": "@jupyter-widgets/base",
          "model_name": "LayoutModel",
          "model_module_version": "1.2.0",
          "state": {
            "_model_module": "@jupyter-widgets/base",
            "_model_module_version": "1.2.0",
            "_model_name": "LayoutModel",
            "_view_count": null,
            "_view_module": "@jupyter-widgets/base",
            "_view_module_version": "1.2.0",
            "_view_name": "LayoutView",
            "align_content": null,
            "align_items": null,
            "align_self": null,
            "border": null,
            "bottom": null,
            "display": null,
            "flex": null,
            "flex_flow": null,
            "grid_area": null,
            "grid_auto_columns": null,
            "grid_auto_flow": null,
            "grid_auto_rows": null,
            "grid_column": null,
            "grid_gap": null,
            "grid_row": null,
            "grid_template_areas": null,
            "grid_template_columns": null,
            "grid_template_rows": null,
            "height": null,
            "justify_content": null,
            "justify_items": null,
            "left": null,
            "margin": null,
            "max_height": null,
            "max_width": null,
            "min_height": null,
            "min_width": null,
            "object_fit": null,
            "object_position": null,
            "order": null,
            "overflow": null,
            "overflow_x": null,
            "overflow_y": null,
            "padding": null,
            "right": null,
            "top": null,
            "visibility": null,
            "width": null
          }
        },
        "7604048471854c268aab54128f7d68fa": {
          "model_module": "@jupyter-widgets/controls",
          "model_name": "ProgressStyleModel",
          "model_module_version": "1.5.0",
          "state": {
            "_model_module": "@jupyter-widgets/controls",
            "_model_module_version": "1.5.0",
            "_model_name": "ProgressStyleModel",
            "_view_count": null,
            "_view_module": "@jupyter-widgets/base",
            "_view_module_version": "1.2.0",
            "_view_name": "StyleView",
            "bar_color": null,
            "description_width": ""
          }
        },
        "bb9223e3bca64a7aba4a36969e77817e": {
          "model_module": "@jupyter-widgets/base",
          "model_name": "LayoutModel",
          "model_module_version": "1.2.0",
          "state": {
            "_model_module": "@jupyter-widgets/base",
            "_model_module_version": "1.2.0",
            "_model_name": "LayoutModel",
            "_view_count": null,
            "_view_module": "@jupyter-widgets/base",
            "_view_module_version": "1.2.0",
            "_view_name": "LayoutView",
            "align_content": null,
            "align_items": null,
            "align_self": null,
            "border": null,
            "bottom": null,
            "display": null,
            "flex": null,
            "flex_flow": null,
            "grid_area": null,
            "grid_auto_columns": null,
            "grid_auto_flow": null,
            "grid_auto_rows": null,
            "grid_column": null,
            "grid_gap": null,
            "grid_row": null,
            "grid_template_areas": null,
            "grid_template_columns": null,
            "grid_template_rows": null,
            "height": null,
            "justify_content": null,
            "justify_items": null,
            "left": null,
            "margin": null,
            "max_height": null,
            "max_width": null,
            "min_height": null,
            "min_width": null,
            "object_fit": null,
            "object_position": null,
            "order": null,
            "overflow": null,
            "overflow_x": null,
            "overflow_y": null,
            "padding": null,
            "right": null,
            "top": null,
            "visibility": null,
            "width": null
          }
        },
        "a98a0bf6572b42ea9d91be445cc9431d": {
          "model_module": "@jupyter-widgets/controls",
          "model_name": "DescriptionStyleModel",
          "model_module_version": "1.5.0",
          "state": {
            "_model_module": "@jupyter-widgets/controls",
            "_model_module_version": "1.5.0",
            "_model_name": "DescriptionStyleModel",
            "_view_count": null,
            "_view_module": "@jupyter-widgets/base",
            "_view_module_version": "1.2.0",
            "_view_name": "StyleView",
            "description_width": ""
          }
        },
        "705565b8a8a04b8cb28c87f9bbaae2c6": {
          "model_module": "@jupyter-widgets/controls",
          "model_name": "HBoxModel",
          "model_module_version": "1.5.0",
          "state": {
            "_dom_classes": [],
            "_model_module": "@jupyter-widgets/controls",
            "_model_module_version": "1.5.0",
            "_model_name": "HBoxModel",
            "_view_count": null,
            "_view_module": "@jupyter-widgets/controls",
            "_view_module_version": "1.5.0",
            "_view_name": "HBoxView",
            "box_style": "",
            "children": [
              "IPY_MODEL_9bdb685f81b345b5b829e83b0f304eed",
              "IPY_MODEL_431e93a401c24073b24a9cb602658422",
              "IPY_MODEL_3d0a318455ec437e8cd596df68a5281b"
            ],
            "layout": "IPY_MODEL_aa4dfcc632a449fe8c2622c7fb435446"
          }
        },
        "9bdb685f81b345b5b829e83b0f304eed": {
          "model_module": "@jupyter-widgets/controls",
          "model_name": "HTMLModel",
          "model_module_version": "1.5.0",
          "state": {
            "_dom_classes": [],
            "_model_module": "@jupyter-widgets/controls",
            "_model_module_version": "1.5.0",
            "_model_name": "HTMLModel",
            "_view_count": null,
            "_view_module": "@jupyter-widgets/controls",
            "_view_module_version": "1.5.0",
            "_view_name": "HTMLView",
            "description": "",
            "description_tooltip": null,
            "layout": "IPY_MODEL_15d3275fe528424dadaad09bf9a0571c",
            "placeholder": "​",
            "style": "IPY_MODEL_963421b19bd740ffb7209c207e27612f",
            "value": "Downloading (…)okenizer_config.json: 100%"
          }
        },
        "431e93a401c24073b24a9cb602658422": {
          "model_module": "@jupyter-widgets/controls",
          "model_name": "FloatProgressModel",
          "model_module_version": "1.5.0",
          "state": {
            "_dom_classes": [],
            "_model_module": "@jupyter-widgets/controls",
            "_model_module_version": "1.5.0",
            "_model_name": "FloatProgressModel",
            "_view_count": null,
            "_view_module": "@jupyter-widgets/controls",
            "_view_module_version": "1.5.0",
            "_view_name": "ProgressView",
            "bar_style": "success",
            "description": "",
            "description_tooltip": null,
            "layout": "IPY_MODEL_279d72c7e1094bbdbd98043bb3589197",
            "max": 28,
            "min": 0,
            "orientation": "horizontal",
            "style": "IPY_MODEL_aa8d862c5d364ed5b355b2531be62d83",
            "value": 28
          }
        },
        "3d0a318455ec437e8cd596df68a5281b": {
          "model_module": "@jupyter-widgets/controls",
          "model_name": "HTMLModel",
          "model_module_version": "1.5.0",
          "state": {
            "_dom_classes": [],
            "_model_module": "@jupyter-widgets/controls",
            "_model_module_version": "1.5.0",
            "_model_name": "HTMLModel",
            "_view_count": null,
            "_view_module": "@jupyter-widgets/controls",
            "_view_module_version": "1.5.0",
            "_view_name": "HTMLView",
            "description": "",
            "description_tooltip": null,
            "layout": "IPY_MODEL_d7423a10258e4a37920e23f0a55321b5",
            "placeholder": "​",
            "style": "IPY_MODEL_7e917eeb79114f36908d132a46b7bb7c",
            "value": " 28.0/28.0 [00:00&lt;00:00, 495B/s]"
          }
        },
        "aa4dfcc632a449fe8c2622c7fb435446": {
          "model_module": "@jupyter-widgets/base",
          "model_name": "LayoutModel",
          "model_module_version": "1.2.0",
          "state": {
            "_model_module": "@jupyter-widgets/base",
            "_model_module_version": "1.2.0",
            "_model_name": "LayoutModel",
            "_view_count": null,
            "_view_module": "@jupyter-widgets/base",
            "_view_module_version": "1.2.0",
            "_view_name": "LayoutView",
            "align_content": null,
            "align_items": null,
            "align_self": null,
            "border": null,
            "bottom": null,
            "display": null,
            "flex": null,
            "flex_flow": null,
            "grid_area": null,
            "grid_auto_columns": null,
            "grid_auto_flow": null,
            "grid_auto_rows": null,
            "grid_column": null,
            "grid_gap": null,
            "grid_row": null,
            "grid_template_areas": null,
            "grid_template_columns": null,
            "grid_template_rows": null,
            "height": null,
            "justify_content": null,
            "justify_items": null,
            "left": null,
            "margin": null,
            "max_height": null,
            "max_width": null,
            "min_height": null,
            "min_width": null,
            "object_fit": null,
            "object_position": null,
            "order": null,
            "overflow": null,
            "overflow_x": null,
            "overflow_y": null,
            "padding": null,
            "right": null,
            "top": null,
            "visibility": null,
            "width": null
          }
        },
        "15d3275fe528424dadaad09bf9a0571c": {
          "model_module": "@jupyter-widgets/base",
          "model_name": "LayoutModel",
          "model_module_version": "1.2.0",
          "state": {
            "_model_module": "@jupyter-widgets/base",
            "_model_module_version": "1.2.0",
            "_model_name": "LayoutModel",
            "_view_count": null,
            "_view_module": "@jupyter-widgets/base",
            "_view_module_version": "1.2.0",
            "_view_name": "LayoutView",
            "align_content": null,
            "align_items": null,
            "align_self": null,
            "border": null,
            "bottom": null,
            "display": null,
            "flex": null,
            "flex_flow": null,
            "grid_area": null,
            "grid_auto_columns": null,
            "grid_auto_flow": null,
            "grid_auto_rows": null,
            "grid_column": null,
            "grid_gap": null,
            "grid_row": null,
            "grid_template_areas": null,
            "grid_template_columns": null,
            "grid_template_rows": null,
            "height": null,
            "justify_content": null,
            "justify_items": null,
            "left": null,
            "margin": null,
            "max_height": null,
            "max_width": null,
            "min_height": null,
            "min_width": null,
            "object_fit": null,
            "object_position": null,
            "order": null,
            "overflow": null,
            "overflow_x": null,
            "overflow_y": null,
            "padding": null,
            "right": null,
            "top": null,
            "visibility": null,
            "width": null
          }
        },
        "963421b19bd740ffb7209c207e27612f": {
          "model_module": "@jupyter-widgets/controls",
          "model_name": "DescriptionStyleModel",
          "model_module_version": "1.5.0",
          "state": {
            "_model_module": "@jupyter-widgets/controls",
            "_model_module_version": "1.5.0",
            "_model_name": "DescriptionStyleModel",
            "_view_count": null,
            "_view_module": "@jupyter-widgets/base",
            "_view_module_version": "1.2.0",
            "_view_name": "StyleView",
            "description_width": ""
          }
        },
        "279d72c7e1094bbdbd98043bb3589197": {
          "model_module": "@jupyter-widgets/base",
          "model_name": "LayoutModel",
          "model_module_version": "1.2.0",
          "state": {
            "_model_module": "@jupyter-widgets/base",
            "_model_module_version": "1.2.0",
            "_model_name": "LayoutModel",
            "_view_count": null,
            "_view_module": "@jupyter-widgets/base",
            "_view_module_version": "1.2.0",
            "_view_name": "LayoutView",
            "align_content": null,
            "align_items": null,
            "align_self": null,
            "border": null,
            "bottom": null,
            "display": null,
            "flex": null,
            "flex_flow": null,
            "grid_area": null,
            "grid_auto_columns": null,
            "grid_auto_flow": null,
            "grid_auto_rows": null,
            "grid_column": null,
            "grid_gap": null,
            "grid_row": null,
            "grid_template_areas": null,
            "grid_template_columns": null,
            "grid_template_rows": null,
            "height": null,
            "justify_content": null,
            "justify_items": null,
            "left": null,
            "margin": null,
            "max_height": null,
            "max_width": null,
            "min_height": null,
            "min_width": null,
            "object_fit": null,
            "object_position": null,
            "order": null,
            "overflow": null,
            "overflow_x": null,
            "overflow_y": null,
            "padding": null,
            "right": null,
            "top": null,
            "visibility": null,
            "width": null
          }
        },
        "aa8d862c5d364ed5b355b2531be62d83": {
          "model_module": "@jupyter-widgets/controls",
          "model_name": "ProgressStyleModel",
          "model_module_version": "1.5.0",
          "state": {
            "_model_module": "@jupyter-widgets/controls",
            "_model_module_version": "1.5.0",
            "_model_name": "ProgressStyleModel",
            "_view_count": null,
            "_view_module": "@jupyter-widgets/base",
            "_view_module_version": "1.2.0",
            "_view_name": "StyleView",
            "bar_color": null,
            "description_width": ""
          }
        },
        "d7423a10258e4a37920e23f0a55321b5": {
          "model_module": "@jupyter-widgets/base",
          "model_name": "LayoutModel",
          "model_module_version": "1.2.0",
          "state": {
            "_model_module": "@jupyter-widgets/base",
            "_model_module_version": "1.2.0",
            "_model_name": "LayoutModel",
            "_view_count": null,
            "_view_module": "@jupyter-widgets/base",
            "_view_module_version": "1.2.0",
            "_view_name": "LayoutView",
            "align_content": null,
            "align_items": null,
            "align_self": null,
            "border": null,
            "bottom": null,
            "display": null,
            "flex": null,
            "flex_flow": null,
            "grid_area": null,
            "grid_auto_columns": null,
            "grid_auto_flow": null,
            "grid_auto_rows": null,
            "grid_column": null,
            "grid_gap": null,
            "grid_row": null,
            "grid_template_areas": null,
            "grid_template_columns": null,
            "grid_template_rows": null,
            "height": null,
            "justify_content": null,
            "justify_items": null,
            "left": null,
            "margin": null,
            "max_height": null,
            "max_width": null,
            "min_height": null,
            "min_width": null,
            "object_fit": null,
            "object_position": null,
            "order": null,
            "overflow": null,
            "overflow_x": null,
            "overflow_y": null,
            "padding": null,
            "right": null,
            "top": null,
            "visibility": null,
            "width": null
          }
        },
        "7e917eeb79114f36908d132a46b7bb7c": {
          "model_module": "@jupyter-widgets/controls",
          "model_name": "DescriptionStyleModel",
          "model_module_version": "1.5.0",
          "state": {
            "_model_module": "@jupyter-widgets/controls",
            "_model_module_version": "1.5.0",
            "_model_name": "DescriptionStyleModel",
            "_view_count": null,
            "_view_module": "@jupyter-widgets/base",
            "_view_module_version": "1.2.0",
            "_view_name": "StyleView",
            "description_width": ""
          }
        },
        "89c6b23b8b6c423fbb1768cbb4f8ac34": {
          "model_module": "@jupyter-widgets/controls",
          "model_name": "HBoxModel",
          "model_module_version": "1.5.0",
          "state": {
            "_dom_classes": [],
            "_model_module": "@jupyter-widgets/controls",
            "_model_module_version": "1.5.0",
            "_model_name": "HBoxModel",
            "_view_count": null,
            "_view_module": "@jupyter-widgets/controls",
            "_view_module_version": "1.5.0",
            "_view_name": "HBoxView",
            "box_style": "",
            "children": [
              "IPY_MODEL_5af810a486bf4538ba83c60bc36be43c",
              "IPY_MODEL_ab512080c1374e52aadf703d5ab12d26",
              "IPY_MODEL_b1b70270883b49299f53657e07a8654d"
            ],
            "layout": "IPY_MODEL_7b99a662808d4de6ae3d02d0cd2e7260"
          }
        },
        "5af810a486bf4538ba83c60bc36be43c": {
          "model_module": "@jupyter-widgets/controls",
          "model_name": "HTMLModel",
          "model_module_version": "1.5.0",
          "state": {
            "_dom_classes": [],
            "_model_module": "@jupyter-widgets/controls",
            "_model_module_version": "1.5.0",
            "_model_name": "HTMLModel",
            "_view_count": null,
            "_view_module": "@jupyter-widgets/controls",
            "_view_module_version": "1.5.0",
            "_view_name": "HTMLView",
            "description": "",
            "description_tooltip": null,
            "layout": "IPY_MODEL_2188caa308b14b378b09bde1214e922d",
            "placeholder": "​",
            "style": "IPY_MODEL_10074559e515490db21400b02371be1e",
            "value": "Downloading (…)lve/main/config.json: 100%"
          }
        },
        "ab512080c1374e52aadf703d5ab12d26": {
          "model_module": "@jupyter-widgets/controls",
          "model_name": "FloatProgressModel",
          "model_module_version": "1.5.0",
          "state": {
            "_dom_classes": [],
            "_model_module": "@jupyter-widgets/controls",
            "_model_module_version": "1.5.0",
            "_model_name": "FloatProgressModel",
            "_view_count": null,
            "_view_module": "@jupyter-widgets/controls",
            "_view_module_version": "1.5.0",
            "_view_name": "ProgressView",
            "bar_style": "success",
            "description": "",
            "description_tooltip": null,
            "layout": "IPY_MODEL_e9c64a30bf4648f9a5837a0dfb15c339",
            "max": 570,
            "min": 0,
            "orientation": "horizontal",
            "style": "IPY_MODEL_3eb4ec2eed56441d9803dc0ce5ea6d40",
            "value": 570
          }
        },
        "b1b70270883b49299f53657e07a8654d": {
          "model_module": "@jupyter-widgets/controls",
          "model_name": "HTMLModel",
          "model_module_version": "1.5.0",
          "state": {
            "_dom_classes": [],
            "_model_module": "@jupyter-widgets/controls",
            "_model_module_version": "1.5.0",
            "_model_name": "HTMLModel",
            "_view_count": null,
            "_view_module": "@jupyter-widgets/controls",
            "_view_module_version": "1.5.0",
            "_view_name": "HTMLView",
            "description": "",
            "description_tooltip": null,
            "layout": "IPY_MODEL_df29ee1b7bd648ffaea63218d1280d74",
            "placeholder": "​",
            "style": "IPY_MODEL_00b1767198f24e1793c0a40df4b62744",
            "value": " 570/570 [00:00&lt;00:00, 22.1kB/s]"
          }
        },
        "7b99a662808d4de6ae3d02d0cd2e7260": {
          "model_module": "@jupyter-widgets/base",
          "model_name": "LayoutModel",
          "model_module_version": "1.2.0",
          "state": {
            "_model_module": "@jupyter-widgets/base",
            "_model_module_version": "1.2.0",
            "_model_name": "LayoutModel",
            "_view_count": null,
            "_view_module": "@jupyter-widgets/base",
            "_view_module_version": "1.2.0",
            "_view_name": "LayoutView",
            "align_content": null,
            "align_items": null,
            "align_self": null,
            "border": null,
            "bottom": null,
            "display": null,
            "flex": null,
            "flex_flow": null,
            "grid_area": null,
            "grid_auto_columns": null,
            "grid_auto_flow": null,
            "grid_auto_rows": null,
            "grid_column": null,
            "grid_gap": null,
            "grid_row": null,
            "grid_template_areas": null,
            "grid_template_columns": null,
            "grid_template_rows": null,
            "height": null,
            "justify_content": null,
            "justify_items": null,
            "left": null,
            "margin": null,
            "max_height": null,
            "max_width": null,
            "min_height": null,
            "min_width": null,
            "object_fit": null,
            "object_position": null,
            "order": null,
            "overflow": null,
            "overflow_x": null,
            "overflow_y": null,
            "padding": null,
            "right": null,
            "top": null,
            "visibility": null,
            "width": null
          }
        },
        "2188caa308b14b378b09bde1214e922d": {
          "model_module": "@jupyter-widgets/base",
          "model_name": "LayoutModel",
          "model_module_version": "1.2.0",
          "state": {
            "_model_module": "@jupyter-widgets/base",
            "_model_module_version": "1.2.0",
            "_model_name": "LayoutModel",
            "_view_count": null,
            "_view_module": "@jupyter-widgets/base",
            "_view_module_version": "1.2.0",
            "_view_name": "LayoutView",
            "align_content": null,
            "align_items": null,
            "align_self": null,
            "border": null,
            "bottom": null,
            "display": null,
            "flex": null,
            "flex_flow": null,
            "grid_area": null,
            "grid_auto_columns": null,
            "grid_auto_flow": null,
            "grid_auto_rows": null,
            "grid_column": null,
            "grid_gap": null,
            "grid_row": null,
            "grid_template_areas": null,
            "grid_template_columns": null,
            "grid_template_rows": null,
            "height": null,
            "justify_content": null,
            "justify_items": null,
            "left": null,
            "margin": null,
            "max_height": null,
            "max_width": null,
            "min_height": null,
            "min_width": null,
            "object_fit": null,
            "object_position": null,
            "order": null,
            "overflow": null,
            "overflow_x": null,
            "overflow_y": null,
            "padding": null,
            "right": null,
            "top": null,
            "visibility": null,
            "width": null
          }
        },
        "10074559e515490db21400b02371be1e": {
          "model_module": "@jupyter-widgets/controls",
          "model_name": "DescriptionStyleModel",
          "model_module_version": "1.5.0",
          "state": {
            "_model_module": "@jupyter-widgets/controls",
            "_model_module_version": "1.5.0",
            "_model_name": "DescriptionStyleModel",
            "_view_count": null,
            "_view_module": "@jupyter-widgets/base",
            "_view_module_version": "1.2.0",
            "_view_name": "StyleView",
            "description_width": ""
          }
        },
        "e9c64a30bf4648f9a5837a0dfb15c339": {
          "model_module": "@jupyter-widgets/base",
          "model_name": "LayoutModel",
          "model_module_version": "1.2.0",
          "state": {
            "_model_module": "@jupyter-widgets/base",
            "_model_module_version": "1.2.0",
            "_model_name": "LayoutModel",
            "_view_count": null,
            "_view_module": "@jupyter-widgets/base",
            "_view_module_version": "1.2.0",
            "_view_name": "LayoutView",
            "align_content": null,
            "align_items": null,
            "align_self": null,
            "border": null,
            "bottom": null,
            "display": null,
            "flex": null,
            "flex_flow": null,
            "grid_area": null,
            "grid_auto_columns": null,
            "grid_auto_flow": null,
            "grid_auto_rows": null,
            "grid_column": null,
            "grid_gap": null,
            "grid_row": null,
            "grid_template_areas": null,
            "grid_template_columns": null,
            "grid_template_rows": null,
            "height": null,
            "justify_content": null,
            "justify_items": null,
            "left": null,
            "margin": null,
            "max_height": null,
            "max_width": null,
            "min_height": null,
            "min_width": null,
            "object_fit": null,
            "object_position": null,
            "order": null,
            "overflow": null,
            "overflow_x": null,
            "overflow_y": null,
            "padding": null,
            "right": null,
            "top": null,
            "visibility": null,
            "width": null
          }
        },
        "3eb4ec2eed56441d9803dc0ce5ea6d40": {
          "model_module": "@jupyter-widgets/controls",
          "model_name": "ProgressStyleModel",
          "model_module_version": "1.5.0",
          "state": {
            "_model_module": "@jupyter-widgets/controls",
            "_model_module_version": "1.5.0",
            "_model_name": "ProgressStyleModel",
            "_view_count": null,
            "_view_module": "@jupyter-widgets/base",
            "_view_module_version": "1.2.0",
            "_view_name": "StyleView",
            "bar_color": null,
            "description_width": ""
          }
        },
        "df29ee1b7bd648ffaea63218d1280d74": {
          "model_module": "@jupyter-widgets/base",
          "model_name": "LayoutModel",
          "model_module_version": "1.2.0",
          "state": {
            "_model_module": "@jupyter-widgets/base",
            "_model_module_version": "1.2.0",
            "_model_name": "LayoutModel",
            "_view_count": null,
            "_view_module": "@jupyter-widgets/base",
            "_view_module_version": "1.2.0",
            "_view_name": "LayoutView",
            "align_content": null,
            "align_items": null,
            "align_self": null,
            "border": null,
            "bottom": null,
            "display": null,
            "flex": null,
            "flex_flow": null,
            "grid_area": null,
            "grid_auto_columns": null,
            "grid_auto_flow": null,
            "grid_auto_rows": null,
            "grid_column": null,
            "grid_gap": null,
            "grid_row": null,
            "grid_template_areas": null,
            "grid_template_columns": null,
            "grid_template_rows": null,
            "height": null,
            "justify_content": null,
            "justify_items": null,
            "left": null,
            "margin": null,
            "max_height": null,
            "max_width": null,
            "min_height": null,
            "min_width": null,
            "object_fit": null,
            "object_position": null,
            "order": null,
            "overflow": null,
            "overflow_x": null,
            "overflow_y": null,
            "padding": null,
            "right": null,
            "top": null,
            "visibility": null,
            "width": null
          }
        },
        "00b1767198f24e1793c0a40df4b62744": {
          "model_module": "@jupyter-widgets/controls",
          "model_name": "DescriptionStyleModel",
          "model_module_version": "1.5.0",
          "state": {
            "_model_module": "@jupyter-widgets/controls",
            "_model_module_version": "1.5.0",
            "_model_name": "DescriptionStyleModel",
            "_view_count": null,
            "_view_module": "@jupyter-widgets/base",
            "_view_module_version": "1.2.0",
            "_view_name": "StyleView",
            "description_width": ""
          }
        },
        "4f9c8d03ee284c6cbcebadd5f6782c0a": {
          "model_module": "@jupyter-widgets/controls",
          "model_name": "HBoxModel",
          "model_module_version": "1.5.0",
          "state": {
            "_dom_classes": [],
            "_model_module": "@jupyter-widgets/controls",
            "_model_module_version": "1.5.0",
            "_model_name": "HBoxModel",
            "_view_count": null,
            "_view_module": "@jupyter-widgets/controls",
            "_view_module_version": "1.5.0",
            "_view_name": "HBoxView",
            "box_style": "",
            "children": [
              "IPY_MODEL_4d4e9003d17f4bb88feecbcbab3e4e26",
              "IPY_MODEL_7b48282f59634821a7c3219d2bc7d289",
              "IPY_MODEL_92db4f2036a84ed3a05efb7a32201c65"
            ],
            "layout": "IPY_MODEL_751e24570df1420891ed10bef4da83c2"
          }
        },
        "4d4e9003d17f4bb88feecbcbab3e4e26": {
          "model_module": "@jupyter-widgets/controls",
          "model_name": "HTMLModel",
          "model_module_version": "1.5.0",
          "state": {
            "_dom_classes": [],
            "_model_module": "@jupyter-widgets/controls",
            "_model_module_version": "1.5.0",
            "_model_name": "HTMLModel",
            "_view_count": null,
            "_view_module": "@jupyter-widgets/controls",
            "_view_module_version": "1.5.0",
            "_view_name": "HTMLView",
            "description": "",
            "description_tooltip": null,
            "layout": "IPY_MODEL_3e4b3433ce6046ab8a5c371c008c8da7",
            "placeholder": "​",
            "style": "IPY_MODEL_b9590d147a024bc79403d7b975a8e2e8",
            "value": "Downloading model.safetensors: 100%"
          }
        },
        "7b48282f59634821a7c3219d2bc7d289": {
          "model_module": "@jupyter-widgets/controls",
          "model_name": "FloatProgressModel",
          "model_module_version": "1.5.0",
          "state": {
            "_dom_classes": [],
            "_model_module": "@jupyter-widgets/controls",
            "_model_module_version": "1.5.0",
            "_model_name": "FloatProgressModel",
            "_view_count": null,
            "_view_module": "@jupyter-widgets/controls",
            "_view_module_version": "1.5.0",
            "_view_name": "ProgressView",
            "bar_style": "success",
            "description": "",
            "description_tooltip": null,
            "layout": "IPY_MODEL_57d48fbb78bc487a95a235b985fab4ab",
            "max": 440449768,
            "min": 0,
            "orientation": "horizontal",
            "style": "IPY_MODEL_202e1499426848dc9ef6adae49e70fc7",
            "value": 440449768
          }
        },
        "92db4f2036a84ed3a05efb7a32201c65": {
          "model_module": "@jupyter-widgets/controls",
          "model_name": "HTMLModel",
          "model_module_version": "1.5.0",
          "state": {
            "_dom_classes": [],
            "_model_module": "@jupyter-widgets/controls",
            "_model_module_version": "1.5.0",
            "_model_name": "HTMLModel",
            "_view_count": null,
            "_view_module": "@jupyter-widgets/controls",
            "_view_module_version": "1.5.0",
            "_view_name": "HTMLView",
            "description": "",
            "description_tooltip": null,
            "layout": "IPY_MODEL_c1f03637623d47a0b8d0993193088780",
            "placeholder": "​",
            "style": "IPY_MODEL_6635383bd5af4ee09b086e423c2cf5ce",
            "value": " 440M/440M [00:11&lt;00:00, 35.4MB/s]"
          }
        },
        "751e24570df1420891ed10bef4da83c2": {
          "model_module": "@jupyter-widgets/base",
          "model_name": "LayoutModel",
          "model_module_version": "1.2.0",
          "state": {
            "_model_module": "@jupyter-widgets/base",
            "_model_module_version": "1.2.0",
            "_model_name": "LayoutModel",
            "_view_count": null,
            "_view_module": "@jupyter-widgets/base",
            "_view_module_version": "1.2.0",
            "_view_name": "LayoutView",
            "align_content": null,
            "align_items": null,
            "align_self": null,
            "border": null,
            "bottom": null,
            "display": null,
            "flex": null,
            "flex_flow": null,
            "grid_area": null,
            "grid_auto_columns": null,
            "grid_auto_flow": null,
            "grid_auto_rows": null,
            "grid_column": null,
            "grid_gap": null,
            "grid_row": null,
            "grid_template_areas": null,
            "grid_template_columns": null,
            "grid_template_rows": null,
            "height": null,
            "justify_content": null,
            "justify_items": null,
            "left": null,
            "margin": null,
            "max_height": null,
            "max_width": null,
            "min_height": null,
            "min_width": null,
            "object_fit": null,
            "object_position": null,
            "order": null,
            "overflow": null,
            "overflow_x": null,
            "overflow_y": null,
            "padding": null,
            "right": null,
            "top": null,
            "visibility": null,
            "width": null
          }
        },
        "3e4b3433ce6046ab8a5c371c008c8da7": {
          "model_module": "@jupyter-widgets/base",
          "model_name": "LayoutModel",
          "model_module_version": "1.2.0",
          "state": {
            "_model_module": "@jupyter-widgets/base",
            "_model_module_version": "1.2.0",
            "_model_name": "LayoutModel",
            "_view_count": null,
            "_view_module": "@jupyter-widgets/base",
            "_view_module_version": "1.2.0",
            "_view_name": "LayoutView",
            "align_content": null,
            "align_items": null,
            "align_self": null,
            "border": null,
            "bottom": null,
            "display": null,
            "flex": null,
            "flex_flow": null,
            "grid_area": null,
            "grid_auto_columns": null,
            "grid_auto_flow": null,
            "grid_auto_rows": null,
            "grid_column": null,
            "grid_gap": null,
            "grid_row": null,
            "grid_template_areas": null,
            "grid_template_columns": null,
            "grid_template_rows": null,
            "height": null,
            "justify_content": null,
            "justify_items": null,
            "left": null,
            "margin": null,
            "max_height": null,
            "max_width": null,
            "min_height": null,
            "min_width": null,
            "object_fit": null,
            "object_position": null,
            "order": null,
            "overflow": null,
            "overflow_x": null,
            "overflow_y": null,
            "padding": null,
            "right": null,
            "top": null,
            "visibility": null,
            "width": null
          }
        },
        "b9590d147a024bc79403d7b975a8e2e8": {
          "model_module": "@jupyter-widgets/controls",
          "model_name": "DescriptionStyleModel",
          "model_module_version": "1.5.0",
          "state": {
            "_model_module": "@jupyter-widgets/controls",
            "_model_module_version": "1.5.0",
            "_model_name": "DescriptionStyleModel",
            "_view_count": null,
            "_view_module": "@jupyter-widgets/base",
            "_view_module_version": "1.2.0",
            "_view_name": "StyleView",
            "description_width": ""
          }
        },
        "57d48fbb78bc487a95a235b985fab4ab": {
          "model_module": "@jupyter-widgets/base",
          "model_name": "LayoutModel",
          "model_module_version": "1.2.0",
          "state": {
            "_model_module": "@jupyter-widgets/base",
            "_model_module_version": "1.2.0",
            "_model_name": "LayoutModel",
            "_view_count": null,
            "_view_module": "@jupyter-widgets/base",
            "_view_module_version": "1.2.0",
            "_view_name": "LayoutView",
            "align_content": null,
            "align_items": null,
            "align_self": null,
            "border": null,
            "bottom": null,
            "display": null,
            "flex": null,
            "flex_flow": null,
            "grid_area": null,
            "grid_auto_columns": null,
            "grid_auto_flow": null,
            "grid_auto_rows": null,
            "grid_column": null,
            "grid_gap": null,
            "grid_row": null,
            "grid_template_areas": null,
            "grid_template_columns": null,
            "grid_template_rows": null,
            "height": null,
            "justify_content": null,
            "justify_items": null,
            "left": null,
            "margin": null,
            "max_height": null,
            "max_width": null,
            "min_height": null,
            "min_width": null,
            "object_fit": null,
            "object_position": null,
            "order": null,
            "overflow": null,
            "overflow_x": null,
            "overflow_y": null,
            "padding": null,
            "right": null,
            "top": null,
            "visibility": null,
            "width": null
          }
        },
        "202e1499426848dc9ef6adae49e70fc7": {
          "model_module": "@jupyter-widgets/controls",
          "model_name": "ProgressStyleModel",
          "model_module_version": "1.5.0",
          "state": {
            "_model_module": "@jupyter-widgets/controls",
            "_model_module_version": "1.5.0",
            "_model_name": "ProgressStyleModel",
            "_view_count": null,
            "_view_module": "@jupyter-widgets/base",
            "_view_module_version": "1.2.0",
            "_view_name": "StyleView",
            "bar_color": null,
            "description_width": ""
          }
        },
        "c1f03637623d47a0b8d0993193088780": {
          "model_module": "@jupyter-widgets/base",
          "model_name": "LayoutModel",
          "model_module_version": "1.2.0",
          "state": {
            "_model_module": "@jupyter-widgets/base",
            "_model_module_version": "1.2.0",
            "_model_name": "LayoutModel",
            "_view_count": null,
            "_view_module": "@jupyter-widgets/base",
            "_view_module_version": "1.2.0",
            "_view_name": "LayoutView",
            "align_content": null,
            "align_items": null,
            "align_self": null,
            "border": null,
            "bottom": null,
            "display": null,
            "flex": null,
            "flex_flow": null,
            "grid_area": null,
            "grid_auto_columns": null,
            "grid_auto_flow": null,
            "grid_auto_rows": null,
            "grid_column": null,
            "grid_gap": null,
            "grid_row": null,
            "grid_template_areas": null,
            "grid_template_columns": null,
            "grid_template_rows": null,
            "height": null,
            "justify_content": null,
            "justify_items": null,
            "left": null,
            "margin": null,
            "max_height": null,
            "max_width": null,
            "min_height": null,
            "min_width": null,
            "object_fit": null,
            "object_position": null,
            "order": null,
            "overflow": null,
            "overflow_x": null,
            "overflow_y": null,
            "padding": null,
            "right": null,
            "top": null,
            "visibility": null,
            "width": null
          }
        },
        "6635383bd5af4ee09b086e423c2cf5ce": {
          "model_module": "@jupyter-widgets/controls",
          "model_name": "DescriptionStyleModel",
          "model_module_version": "1.5.0",
          "state": {
            "_model_module": "@jupyter-widgets/controls",
            "_model_module_version": "1.5.0",
            "_model_name": "DescriptionStyleModel",
            "_view_count": null,
            "_view_module": "@jupyter-widgets/base",
            "_view_module_version": "1.2.0",
            "_view_name": "StyleView",
            "description_width": ""
          }
        }
      }
    }
  },
  "nbformat": 4,
  "nbformat_minor": 5
}